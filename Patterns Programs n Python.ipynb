{
 "cells": [
  {
   "cell_type": "markdown",
   "metadata": {},
   "source": [
    "# <center> Pattern Programs in Python <Center>"
   ]
  },
  {
   "cell_type": "markdown",
   "metadata": {},
   "source": [
    "## Pattern 1"
   ]
  },
  {
   "cell_type": "code",
   "execution_count": 1,
   "metadata": {},
   "outputs": [
    {
     "name": "stdout",
     "output_type": "stream",
     "text": [
      "Enter no.of rows:10\n",
      "* * * * * * * * * * \n",
      "* * * * * * * * * * \n",
      "* * * * * * * * * * \n",
      "* * * * * * * * * * \n",
      "* * * * * * * * * * \n",
      "* * * * * * * * * * \n",
      "* * * * * * * * * * \n",
      "* * * * * * * * * * \n",
      "* * * * * * * * * * \n",
      "* * * * * * * * * * \n"
     ]
    }
   ],
   "source": [
    "n = int(input(\"Enter no.of rows:\"))\n",
    "for v in range(1,n+1):\n",
    "    print(\"* \"*n)"
   ]
  },
  {
   "cell_type": "code",
   "execution_count": 2,
   "metadata": {},
   "outputs": [
    {
     "name": "stdout",
     "output_type": "stream",
     "text": [
      "Enter no.of rows:10\n",
      "1 1 1 1 1 1 1 1 1 1 \n",
      "2 2 2 2 2 2 2 2 2 2 \n",
      "3 3 3 3 3 3 3 3 3 3 \n",
      "4 4 4 4 4 4 4 4 4 4 \n",
      "5 5 5 5 5 5 5 5 5 5 \n",
      "6 6 6 6 6 6 6 6 6 6 \n",
      "7 7 7 7 7 7 7 7 7 7 \n",
      "8 8 8 8 8 8 8 8 8 8 \n",
      "9 9 9 9 9 9 9 9 9 9 \n",
      "10 10 10 10 10 10 10 10 10 10 \n"
     ]
    }
   ],
   "source": [
    "n = int(input(\"Enter no.of rows:\"))\n",
    "for i in range(1,n+1):\n",
    "    for j in range(1,n+1):\n",
    "        print(i,end=\" \")\n",
    "    print()"
   ]
  },
  {
   "cell_type": "markdown",
   "metadata": {},
   "source": [
    "## Pattern 2"
   ]
  },
  {
   "cell_type": "code",
   "execution_count": 3,
   "metadata": {},
   "outputs": [
    {
     "name": "stdout",
     "output_type": "stream",
     "text": [
      "Enter no.of rows:10\n",
      "1 2 3 4 5 6 7 8 9 10 \n",
      "1 2 3 4 5 6 7 8 9 10 \n",
      "1 2 3 4 5 6 7 8 9 10 \n",
      "1 2 3 4 5 6 7 8 9 10 \n",
      "1 2 3 4 5 6 7 8 9 10 \n",
      "1 2 3 4 5 6 7 8 9 10 \n",
      "1 2 3 4 5 6 7 8 9 10 \n",
      "1 2 3 4 5 6 7 8 9 10 \n",
      "1 2 3 4 5 6 7 8 9 10 \n",
      "1 2 3 4 5 6 7 8 9 10 \n"
     ]
    }
   ],
   "source": [
    "n = int(input(\"Enter no.of rows:\"))\n",
    "for i in range(1,n+1):\n",
    "    for j in range(1,n+1):\n",
    "        print(j,end=\" \")\n",
    "    print()"
   ]
  },
  {
   "cell_type": "markdown",
   "metadata": {},
   "source": [
    "## Pattern 3"
   ]
  },
  {
   "cell_type": "code",
   "execution_count": 5,
   "metadata": {},
   "outputs": [
    {
     "name": "stdout",
     "output_type": "stream",
     "text": [
      "Enter no.of rows:10\n",
      "A A A A A A A A A A \n",
      "B B B B B B B B B B \n",
      "C C C C C C C C C C \n",
      "D D D D D D D D D D \n",
      "E E E E E E E E E E \n",
      "F F F F F F F F F F \n",
      "G G G G G G G G G G \n",
      "H H H H H H H H H H \n",
      "I I I I I I I I I I \n",
      "J J J J J J J J J J \n"
     ]
    }
   ],
   "source": [
    "n = int(input(\"Enter no.of rows:\"))\n",
    "for i in range(1,n+1):\n",
    "    for j in range(1,n+1):\n",
    "        print(chr(64+i),end=\" \")\n",
    "    print()"
   ]
  },
  {
   "cell_type": "markdown",
   "metadata": {},
   "source": [
    "## Pattern 4"
   ]
  },
  {
   "cell_type": "code",
   "execution_count": 6,
   "metadata": {},
   "outputs": [
    {
     "name": "stdout",
     "output_type": "stream",
     "text": [
      "Enter no.of rows:10\n",
      "A B C D E F G H I J \n",
      "A B C D E F G H I J \n",
      "A B C D E F G H I J \n",
      "A B C D E F G H I J \n",
      "A B C D E F G H I J \n",
      "A B C D E F G H I J \n",
      "A B C D E F G H I J \n",
      "A B C D E F G H I J \n",
      "A B C D E F G H I J \n",
      "A B C D E F G H I J \n"
     ]
    }
   ],
   "source": [
    "n = int(input(\"Enter no.of rows:\"))\n",
    "for i in range(1,n+1):\n",
    "    for j in range(1,n+1):\n",
    "        print(chr(64+j),end=\" \")\n",
    "    print()"
   ]
  },
  {
   "cell_type": "markdown",
   "metadata": {},
   "source": [
    "## Pattern 5"
   ]
  },
  {
   "cell_type": "code",
   "execution_count": 1,
   "metadata": {},
   "outputs": [
    {
     "name": "stdout",
     "output_type": "stream",
     "text": [
      "Enter no.of rows:10\n",
      "10 10 10 10 10 10 10 10 10 10 \n",
      "9 9 9 9 9 9 9 9 9 9 \n",
      "8 8 8 8 8 8 8 8 8 8 \n",
      "7 7 7 7 7 7 7 7 7 7 \n",
      "6 6 6 6 6 6 6 6 6 6 \n",
      "5 5 5 5 5 5 5 5 5 5 \n",
      "4 4 4 4 4 4 4 4 4 4 \n",
      "3 3 3 3 3 3 3 3 3 3 \n",
      "2 2 2 2 2 2 2 2 2 2 \n",
      "1 1 1 1 1 1 1 1 1 1 \n"
     ]
    }
   ],
   "source": [
    "n = int(input(\"Enter no.of rows:\"))\n",
    "for i in range(1,n+1):\n",
    "    for j in range(1,n+1):\n",
    "        print(n+1-i,end=\" \")\n",
    "    print()"
   ]
  },
  {
   "cell_type": "markdown",
   "metadata": {},
   "source": [
    "## Pattern 6"
   ]
  },
  {
   "cell_type": "code",
   "execution_count": 2,
   "metadata": {},
   "outputs": [
    {
     "name": "stdout",
     "output_type": "stream",
     "text": [
      "Enter no.of rows:10\n",
      "10 9 8 7 6 5 4 3 2 1 \n",
      "10 9 8 7 6 5 4 3 2 1 \n",
      "10 9 8 7 6 5 4 3 2 1 \n",
      "10 9 8 7 6 5 4 3 2 1 \n",
      "10 9 8 7 6 5 4 3 2 1 \n",
      "10 9 8 7 6 5 4 3 2 1 \n",
      "10 9 8 7 6 5 4 3 2 1 \n",
      "10 9 8 7 6 5 4 3 2 1 \n",
      "10 9 8 7 6 5 4 3 2 1 \n",
      "10 9 8 7 6 5 4 3 2 1 \n"
     ]
    }
   ],
   "source": [
    "n = int(input(\"Enter no.of rows:\"))\n",
    "for i in range(1,n+1):\n",
    "    for j in range(1,n+1):\n",
    "        print(n+1-j,end=\" \")\n",
    "    print()"
   ]
  },
  {
   "cell_type": "markdown",
   "metadata": {},
   "source": [
    "## Pattern 7"
   ]
  },
  {
   "cell_type": "code",
   "execution_count": 3,
   "metadata": {},
   "outputs": [
    {
     "name": "stdout",
     "output_type": "stream",
     "text": [
      "Enter no.of rows:10\n",
      "J J J J J J J J J J \n",
      "I I I I I I I I I I \n",
      "H H H H H H H H H H \n",
      "G G G G G G G G G G \n",
      "F F F F F F F F F F \n",
      "E E E E E E E E E E \n",
      "D D D D D D D D D D \n",
      "C C C C C C C C C C \n",
      "B B B B B B B B B B \n",
      "A A A A A A A A A A \n"
     ]
    }
   ],
   "source": [
    "n = int(input(\"Enter no.of rows:\"))\n",
    "for i in range(1,n+1):\n",
    "    for j in range(1,n+1):\n",
    "        print(chr(65+n-i),end=\" \")\n",
    "    print()"
   ]
  },
  {
   "cell_type": "markdown",
   "metadata": {},
   "source": [
    "## Pattern 8"
   ]
  },
  {
   "cell_type": "code",
   "execution_count": 4,
   "metadata": {},
   "outputs": [
    {
     "name": "stdout",
     "output_type": "stream",
     "text": [
      "Enter no.of rows:10\n",
      "J I H G F E D C B A \n",
      "J I H G F E D C B A \n",
      "J I H G F E D C B A \n",
      "J I H G F E D C B A \n",
      "J I H G F E D C B A \n",
      "J I H G F E D C B A \n",
      "J I H G F E D C B A \n",
      "J I H G F E D C B A \n",
      "J I H G F E D C B A \n",
      "J I H G F E D C B A \n"
     ]
    }
   ],
   "source": [
    "n = int(input(\"Enter no.of rows:\"))\n",
    "for i in range(1,n+1):\n",
    "    for j in range(1,n+1):\n",
    "        print(chr(65+n-j),end=\" \")\n",
    "    print()"
   ]
  },
  {
   "cell_type": "markdown",
   "metadata": {},
   "source": [
    "## Pattern 9"
   ]
  },
  {
   "cell_type": "code",
   "execution_count": 5,
   "metadata": {},
   "outputs": [
    {
     "name": "stdout",
     "output_type": "stream",
     "text": [
      "Enter no.of rows:10\n",
      "* \n",
      "* * \n",
      "* * * \n",
      "* * * * \n",
      "* * * * * \n",
      "* * * * * * \n",
      "* * * * * * * \n",
      "* * * * * * * * \n",
      "* * * * * * * * * \n",
      "* * * * * * * * * * \n"
     ]
    }
   ],
   "source": [
    "n = int(input(\"Enter no.of rows:\"))\n",
    "for i in range(1,n+1):\n",
    "    for j in range(1,i+1):\n",
    "        print(\"*\",end=\" \")\n",
    "    print()"
   ]
  },
  {
   "cell_type": "markdown",
   "metadata": {},
   "source": [
    "## Pattern 10"
   ]
  },
  {
   "cell_type": "code",
   "execution_count": 7,
   "metadata": {},
   "outputs": [
    {
     "name": "stdout",
     "output_type": "stream",
     "text": [
      "Enter no.of rows:10\n",
      "* \n",
      "* * \n",
      "* * * \n",
      "* * * * \n",
      "* * * * * \n",
      "* * * * * * \n",
      "* * * * * * * \n",
      "* * * * * * * * \n",
      "* * * * * * * * * \n",
      "* * * * * * * * * * \n"
     ]
    }
   ],
   "source": [
    "n = int(input(\"Enter no.of rows:\"))\n",
    "for i in range(1,n+1):\n",
    "    print(\"* \"*i)\n",
    "    "
   ]
  },
  {
   "cell_type": "markdown",
   "metadata": {},
   "source": [
    "## Pattern 11"
   ]
  },
  {
   "cell_type": "code",
   "execution_count": 8,
   "metadata": {},
   "outputs": [
    {
     "name": "stdout",
     "output_type": "stream",
     "text": [
      "Enter no.of rows:10\n",
      "1 \n",
      "2 2 \n",
      "3 3 3 \n",
      "4 4 4 4 \n",
      "5 5 5 5 5 \n",
      "6 6 6 6 6 6 \n",
      "7 7 7 7 7 7 7 \n",
      "8 8 8 8 8 8 8 8 \n",
      "9 9 9 9 9 9 9 9 9 \n",
      "10 10 10 10 10 10 10 10 10 10 \n"
     ]
    }
   ],
   "source": [
    "n = int(input(\"Enter no.of rows:\"))\n",
    "for i in range(1,n+1):\n",
    "    for j in range(1,i+1):\n",
    "        print(i,end=\" \")\n",
    "    print()"
   ]
  },
  {
   "cell_type": "markdown",
   "metadata": {},
   "source": [
    "## Pattern 12"
   ]
  },
  {
   "cell_type": "code",
   "execution_count": 9,
   "metadata": {},
   "outputs": [
    {
     "name": "stdout",
     "output_type": "stream",
     "text": [
      "Enter no.of rows:10\n",
      "1 \n",
      "1 2 \n",
      "1 2 3 \n",
      "1 2 3 4 \n",
      "1 2 3 4 5 \n",
      "1 2 3 4 5 6 \n",
      "1 2 3 4 5 6 7 \n",
      "1 2 3 4 5 6 7 8 \n",
      "1 2 3 4 5 6 7 8 9 \n",
      "1 2 3 4 5 6 7 8 9 10 \n"
     ]
    }
   ],
   "source": [
    "n = int(input(\"Enter no.of rows:\"))\n",
    "for i in range(1,n+1):\n",
    "    for j in range(1,i+1):\n",
    "        print(j,end=\" \")\n",
    "    print()"
   ]
  },
  {
   "cell_type": "markdown",
   "metadata": {},
   "source": [
    "## Pattern 13"
   ]
  },
  {
   "cell_type": "code",
   "execution_count": 1,
   "metadata": {},
   "outputs": [
    {
     "name": "stdout",
     "output_type": "stream",
     "text": [
      "Enter no.of rows:10\n",
      "A \n",
      "B B \n",
      "C C C \n",
      "D D D D \n",
      "E E E E E \n",
      "F F F F F F \n",
      "G G G G G G G \n",
      "H H H H H H H H \n",
      "I I I I I I I I I \n",
      "J J J J J J J J J J \n"
     ]
    }
   ],
   "source": [
    "n = int(input(\"Enter no.of rows:\"))\n",
    "for i in range(1,n+1):\n",
    "    for j in range(1,i+1):\n",
    "        print(chr(64+i),end=\" \")\n",
    "    print()"
   ]
  },
  {
   "cell_type": "markdown",
   "metadata": {},
   "source": [
    "## Pattern 14"
   ]
  },
  {
   "cell_type": "code",
   "execution_count": 2,
   "metadata": {},
   "outputs": [
    {
     "name": "stdout",
     "output_type": "stream",
     "text": [
      "Enter no.of rows:10\n",
      "A \n",
      "A B \n",
      "A B C \n",
      "A B C D \n",
      "A B C D E \n",
      "A B C D E F \n",
      "A B C D E F G \n",
      "A B C D E F G H \n",
      "A B C D E F G H I \n",
      "A B C D E F G H I J \n"
     ]
    }
   ],
   "source": [
    "n = int(input(\"Enter no.of rows:\"))\n",
    "for i in range(1,n+1):\n",
    "    for j in range(1,i+1):\n",
    "        print(chr(64+j),end=\" \")\n",
    "    print()"
   ]
  },
  {
   "cell_type": "markdown",
   "metadata": {},
   "source": [
    "## Pattern 15"
   ]
  },
  {
   "cell_type": "code",
   "execution_count": 3,
   "metadata": {},
   "outputs": [
    {
     "name": "stdout",
     "output_type": "stream",
     "text": [
      "Enter no.of rows:10\n",
      "* * * * * * * * * * \n",
      "* * * * * * * * * \n",
      "* * * * * * * * \n",
      "* * * * * * * \n",
      "* * * * * * \n",
      "* * * * * \n",
      "* * * * \n",
      "* * * \n",
      "* * \n",
      "* \n"
     ]
    }
   ],
   "source": [
    "n = int(input(\"Enter no.of rows:\"))\n",
    "for i in range(1,n+1):\n",
    "    for j in range(1,n+2-i):\n",
    "        print(\"*\",end=\" \")\n",
    "    print()"
   ]
  },
  {
   "cell_type": "markdown",
   "metadata": {},
   "source": [
    "## Pattern 16"
   ]
  },
  {
   "cell_type": "code",
   "execution_count": 4,
   "metadata": {},
   "outputs": [
    {
     "name": "stdout",
     "output_type": "stream",
     "text": [
      "Enter no.of rows:10\n",
      "1 1 1 1 1 1 1 1 1 1 \n",
      "2 2 2 2 2 2 2 2 2 \n",
      "3 3 3 3 3 3 3 3 \n",
      "4 4 4 4 4 4 4 \n",
      "5 5 5 5 5 5 \n",
      "6 6 6 6 6 \n",
      "7 7 7 7 \n",
      "8 8 8 \n",
      "9 9 \n",
      "10 \n"
     ]
    }
   ],
   "source": [
    "n = int(input(\"Enter no.of rows:\"))\n",
    "for i in range(1,n+1):\n",
    "    for j in range(1,n+2-i):\n",
    "        print(i,end=\" \")\n",
    "    print()"
   ]
  },
  {
   "cell_type": "markdown",
   "metadata": {},
   "source": [
    "## Pattern 17"
   ]
  },
  {
   "cell_type": "code",
   "execution_count": 5,
   "metadata": {},
   "outputs": [
    {
     "name": "stdout",
     "output_type": "stream",
     "text": [
      "Enter no.of rows:10\n",
      "1 2 3 4 5 6 7 8 9 10 \n",
      "1 2 3 4 5 6 7 8 9 \n",
      "1 2 3 4 5 6 7 8 \n",
      "1 2 3 4 5 6 7 \n",
      "1 2 3 4 5 6 \n",
      "1 2 3 4 5 \n",
      "1 2 3 4 \n",
      "1 2 3 \n",
      "1 2 \n",
      "1 \n"
     ]
    }
   ],
   "source": [
    "n = int(input(\"Enter no.of rows:\"))\n",
    "for i in range(1,n+1):\n",
    "    for j in range(1,n+2-i):\n",
    "        print(j,end=\" \")\n",
    "    print()"
   ]
  },
  {
   "cell_type": "markdown",
   "metadata": {},
   "source": [
    "## Pattern 18"
   ]
  },
  {
   "cell_type": "code",
   "execution_count": 7,
   "metadata": {},
   "outputs": [
    {
     "name": "stdout",
     "output_type": "stream",
     "text": [
      "Enter no.of rows:10\n",
      "A A A A A A A A A A \n",
      "B B B B B B B B B \n",
      "C C C C C C C C \n",
      "D D D D D D D \n",
      "E E E E E E \n",
      "F F F F F \n",
      "G G G G \n",
      "H H H \n",
      "I I \n",
      "J \n"
     ]
    }
   ],
   "source": [
    "n = int(input(\"Enter no.of rows:\"))\n",
    "for i in range(1,n+1):\n",
    "    for j in range(1,n+2-i):\n",
    "        print(chr(64+i),end=\" \")\n",
    "    print()"
   ]
  },
  {
   "cell_type": "markdown",
   "metadata": {},
   "source": [
    "## Pattern 19"
   ]
  },
  {
   "cell_type": "code",
   "execution_count": 8,
   "metadata": {},
   "outputs": [
    {
     "name": "stdout",
     "output_type": "stream",
     "text": [
      "Enter no.of rows:10\n",
      "A B C D E F G H I J \n",
      "A B C D E F G H I \n",
      "A B C D E F G H \n",
      "A B C D E F G \n",
      "A B C D E F \n",
      "A B C D E \n",
      "A B C D \n",
      "A B C \n",
      "A B \n",
      "A \n"
     ]
    }
   ],
   "source": [
    "n = int(input(\"Enter no.of rows:\"))\n",
    "for i in range(1,n+1):\n",
    "    for j in range(1,n+2-i):\n",
    "        print(chr(64+j),end=\" \")\n",
    "    print()"
   ]
  },
  {
   "cell_type": "markdown",
   "metadata": {},
   "source": [
    "## Pattern 20"
   ]
  },
  {
   "cell_type": "code",
   "execution_count": 9,
   "metadata": {},
   "outputs": [
    {
     "name": "stdout",
     "output_type": "stream",
     "text": [
      "Enter no.of rows:10\n",
      "10 10 10 10 10 10 10 10 10 10 \n",
      "9 9 9 9 9 9 9 9 9 \n",
      "8 8 8 8 8 8 8 8 \n",
      "7 7 7 7 7 7 7 \n",
      "6 6 6 6 6 6 \n",
      "5 5 5 5 5 \n",
      "4 4 4 4 \n",
      "3 3 3 \n",
      "2 2 \n",
      "1 \n"
     ]
    }
   ],
   "source": [
    "n = int(input(\"Enter no.of rows:\"))\n",
    "for i in range(1,n+1):\n",
    "    for j in range(1,n+2-i):\n",
    "        print(n+1-i,end=\" \")\n",
    "    print()"
   ]
  },
  {
   "cell_type": "markdown",
   "metadata": {},
   "source": [
    "## Pattern 21"
   ]
  },
  {
   "cell_type": "code",
   "execution_count": 10,
   "metadata": {},
   "outputs": [
    {
     "name": "stdout",
     "output_type": "stream",
     "text": [
      "Enter no.of rows:10\n",
      "10 9 8 7 6 5 4 3 2 1 \n",
      "10 9 8 7 6 5 4 3 2 \n",
      "10 9 8 7 6 5 4 3 \n",
      "10 9 8 7 6 5 4 \n",
      "10 9 8 7 6 5 \n",
      "10 9 8 7 6 \n",
      "10 9 8 7 \n",
      "10 9 8 \n",
      "10 9 \n",
      "10 \n"
     ]
    }
   ],
   "source": [
    "n = int(input(\"Enter no.of rows:\"))\n",
    "for i in range(1,n+1):\n",
    "    for j in range(1,n+2-i):\n",
    "        print(n+1-j,end=\" \")\n",
    "    print()"
   ]
  },
  {
   "cell_type": "markdown",
   "metadata": {},
   "source": [
    "## Pattern 22"
   ]
  },
  {
   "cell_type": "code",
   "execution_count": 11,
   "metadata": {},
   "outputs": [
    {
     "name": "stdout",
     "output_type": "stream",
     "text": [
      "Enter no.of rows:10\n",
      "J J J J J J J J J J \n",
      "I I I I I I I I I \n",
      "H H H H H H H H \n",
      "G G G G G G G \n",
      "F F F F F F \n",
      "E E E E E \n",
      "D D D D \n",
      "C C C \n",
      "B B \n",
      "A \n"
     ]
    }
   ],
   "source": [
    "n = int(input(\"Enter no.of rows:\"))\n",
    "for i in range(1,n+1):\n",
    "    for j in range(1,n+2-i):\n",
    "        print(chr(65+n-i),end=\" \")\n",
    "    print()"
   ]
  },
  {
   "cell_type": "markdown",
   "metadata": {},
   "source": [
    "## Pattern 23"
   ]
  },
  {
   "cell_type": "code",
   "execution_count": 12,
   "metadata": {},
   "outputs": [
    {
     "name": "stdout",
     "output_type": "stream",
     "text": [
      "Enter no.of rows:10\n",
      "J I H G F E D C B A \n",
      "J I H G F E D C B \n",
      "J I H G F E D C \n",
      "J I H G F E D \n",
      "J I H G F E \n",
      "J I H G F \n",
      "J I H G \n",
      "J I H \n",
      "J I \n",
      "J \n"
     ]
    }
   ],
   "source": [
    "n = int(input(\"Enter no.of rows:\"))\n",
    "for i in range(1,n+1):\n",
    "    for j in range(1,n+2-i):\n",
    "        print(chr(65+n-j),end=\" \")\n",
    "    print()"
   ]
  },
  {
   "cell_type": "markdown",
   "metadata": {},
   "source": [
    "## Pattern 24"
   ]
  },
  {
   "cell_type": "code",
   "execution_count": 5,
   "metadata": {},
   "outputs": [
    {
     "name": "stdout",
     "output_type": "stream",
     "text": [
      "Enter no.of rows:10\n",
      "          * \n",
      "         ** \n",
      "        *** \n",
      "       **** \n",
      "      ***** \n",
      "     ****** \n",
      "    ******* \n",
      "   ******** \n",
      "  ********* \n",
      " ********** \n"
     ]
    }
   ],
   "source": [
    "n = int(input(\"Enter no.of rows:\"))\n",
    "for i in range(1,n+1):\n",
    "    print(\" \"*(n-i),'*'*i,end=\" \")\n",
    "    print()"
   ]
  },
  {
   "cell_type": "markdown",
   "metadata": {},
   "source": [
    "## Pattern 25"
   ]
  },
  {
   "cell_type": "code",
   "execution_count": 8,
   "metadata": {},
   "outputs": [
    {
     "name": "stdout",
     "output_type": "stream",
     "text": [
      "Enter no.of rows:10\n",
      "         * \n",
      "        * * \n",
      "       * * * \n",
      "      * * * * \n",
      "     * * * * * \n",
      "    * * * * * * \n",
      "   * * * * * * * \n",
      "  * * * * * * * * \n",
      " * * * * * * * * * \n",
      "* * * * * * * * * * \n"
     ]
    }
   ],
   "source": [
    "n = int(input(\"Enter no.of rows:\"))\n",
    "for i in range(1,n+1):\n",
    "    print(\" \"*(n-i),end=\"\")\n",
    "    for j in range(1,i+1):\n",
    "        print(\"*\",end=\" \") \n",
    "    print()"
   ]
  },
  {
   "cell_type": "markdown",
   "metadata": {},
   "source": [
    "## Pattern 26"
   ]
  },
  {
   "cell_type": "code",
   "execution_count": 9,
   "metadata": {},
   "outputs": [
    {
     "name": "stdout",
     "output_type": "stream",
     "text": [
      "Enter no.of rows:10\n",
      "         1 \n",
      "        2 2 \n",
      "       3 3 3 \n",
      "      4 4 4 4 \n",
      "     5 5 5 5 5 \n",
      "    6 6 6 6 6 6 \n",
      "   7 7 7 7 7 7 7 \n",
      "  8 8 8 8 8 8 8 8 \n",
      " 9 9 9 9 9 9 9 9 9 \n",
      "10 10 10 10 10 10 10 10 10 10 \n"
     ]
    }
   ],
   "source": [
    "n = int(input(\"Enter no.of rows:\"))\n",
    "for i in range(1,n+1):\n",
    "    print(\" \"*(n-i),end=\"\")\n",
    "    for j in range(1,i+1):\n",
    "        print(i,end=\" \") \n",
    "    print()"
   ]
  },
  {
   "cell_type": "code",
   "execution_count": 10,
   "metadata": {},
   "outputs": [
    {
     "name": "stdout",
     "output_type": "stream",
     "text": [
      "Enter no.of rows:10\n",
      "          1 \n",
      "\n",
      "         2 2 \n",
      "\n",
      "        3 3 3 \n",
      "\n",
      "       4 4 4 4 \n",
      "\n",
      "      5 5 5 5 5 \n",
      "\n",
      "     6 6 6 6 6 6 \n",
      "\n",
      "    7 7 7 7 7 7 7 \n",
      "\n",
      "   8 8 8 8 8 8 8 8 \n",
      "\n",
      "  9 9 9 9 9 9 9 9 9 \n",
      "\n",
      " 10 10 10 10 10 10 10 10 10 10 \n",
      "\n"
     ]
    }
   ],
   "source": [
    "n = int(input(\"Enter no.of rows:\"))\n",
    "for i in range(1,n+1):\n",
    "    print(\" \"*(n-i),(str(i)+\" \")*i)\n",
    "    print()"
   ]
  },
  {
   "cell_type": "code",
   "execution_count": 11,
   "metadata": {},
   "outputs": [
    {
     "name": "stdout",
     "output_type": "stream",
     "text": [
      "Enter no.of rows:10\n",
      "         1 \n",
      "        1 2 \n",
      "       1 2 3 \n",
      "      1 2 3 4 \n",
      "     1 2 3 4 5 \n",
      "    1 2 3 4 5 6 \n",
      "   1 2 3 4 5 6 7 \n",
      "  1 2 3 4 5 6 7 8 \n",
      " 1 2 3 4 5 6 7 8 9 \n",
      "1 2 3 4 5 6 7 8 9 10 \n"
     ]
    }
   ],
   "source": [
    "n = int(input(\"Enter no.of rows:\"))\n",
    "for i in range(1,n+1):\n",
    "    print(\" \"*(n-i),end=\"\")\n",
    "    for j in range(1,i+1):\n",
    "        print(j,end=\" \") \n",
    "    print()"
   ]
  },
  {
   "cell_type": "code",
   "execution_count": 12,
   "metadata": {},
   "outputs": [
    {
     "name": "stdout",
     "output_type": "stream",
     "text": [
      "Enter no.of rows:10\n",
      "          A \n",
      "\n",
      "         B B \n",
      "\n",
      "        C C C \n",
      "\n",
      "       D D D D \n",
      "\n",
      "      E E E E E \n",
      "\n",
      "     F F F F F F \n",
      "\n",
      "    G G G G G G G \n",
      "\n",
      "   H H H H H H H H \n",
      "\n",
      "  I I I I I I I I I \n",
      "\n",
      " J J J J J J J J J J \n",
      "\n"
     ]
    }
   ],
   "source": [
    "n = int(input(\"Enter no.of rows:\"))\n",
    "for i in range(1,n+1):\n",
    "    print(\" \"*(n-i),(chr(64+i)+\" \")*i)\n",
    "    print()"
   ]
  },
  {
   "cell_type": "code",
   "execution_count": 13,
   "metadata": {},
   "outputs": [
    {
     "name": "stdout",
     "output_type": "stream",
     "text": [
      "Enter no.of rows:10\n",
      "         A \n",
      "        A B \n",
      "       A B C \n",
      "      A B C D \n",
      "     A B C D E \n",
      "    A B C D E F \n",
      "   A B C D E F G \n",
      "  A B C D E F G H \n",
      " A B C D E F G H I \n",
      "A B C D E F G H I J \n"
     ]
    }
   ],
   "source": [
    "n = int(input(\"Enter no.of rows:\"))\n",
    "for i in range(1,n+1):\n",
    "    print(\" \"*(n-i),end=\"\")\n",
    "    for j in range(1,i+1):\n",
    "        print(chr(64+j),end=\" \") \n",
    "    print()"
   ]
  },
  {
   "cell_type": "code",
   "execution_count": 1,
   "metadata": {},
   "outputs": [
    {
     "name": "stdout",
     "output_type": "stream",
     "text": [
      "Enter no.of rows:5\n",
      " * * * * * \n",
      "  * * * * \n",
      "   * * * \n",
      "    * * \n",
      "     * \n"
     ]
    }
   ],
   "source": [
    "n = int(input(\"Enter no.of rows:\"))\n",
    "for i in range(1,n+1):\n",
    "    print(\" \"*(i-1),'* '*(n+1-i))"
   ]
  },
  {
   "cell_type": "code",
   "execution_count": 4,
   "metadata": {},
   "outputs": [
    {
     "name": "stdout",
     "output_type": "stream",
     "text": [
      "Enter no.of rows:5\n",
      " 5 5 5 5 5 \n",
      "  4 4 4 4 \n",
      "   3 3 3 \n",
      "    2 2 \n",
      "     1 \n"
     ]
    }
   ],
   "source": [
    "n = int(input(\"Enter no.of rows:\"))\n",
    "for i in range(1,n+1):\n",
    "    print(\" \"*(i-1),(str(n+1-i)+' ')*(n+1-i))"
   ]
  },
  {
   "cell_type": "code",
   "execution_count": 6,
   "metadata": {},
   "outputs": [
    {
     "name": "stdout",
     "output_type": "stream",
     "text": [
      "Enter no.of rows:5\n",
      " E E E E E \n",
      "  D D D D \n",
      "   C C C \n",
      "    B B \n",
      "     A \n"
     ]
    }
   ],
   "source": [
    "n = int(input(\"Enter no.of rows:\"))\n",
    "for i in range(1,n+1):\n",
    "    print(\" \"*(i-1),(str(chr(65+n-i))+' ')*(n+1-i))"
   ]
  },
  {
   "cell_type": "code",
   "execution_count": 3,
   "metadata": {},
   "outputs": [
    {
     "name": "stdout",
     "output_type": "stream",
     "text": [
      "Enter no.of rows:5\n",
      "1 2 3 4 5 \n",
      " 1 2 3 4 \n",
      "  1 2 3 \n",
      "   1 2 \n",
      "    1 \n"
     ]
    }
   ],
   "source": [
    "n = int(input(\"Enter no.of rows:\"))\n",
    "for i in range(1,n+1):\n",
    "    print(\" \"*(i-1),end=\"\")\n",
    "    for j in range(1,n+2-i):\n",
    "        print(j,end=\" \")\n",
    "    print()"
   ]
  },
  {
   "cell_type": "code",
   "execution_count": 4,
   "metadata": {},
   "outputs": [
    {
     "name": "stdout",
     "output_type": "stream",
     "text": [
      "Enter no.of rows:5\n",
      "A B C D E \n",
      " A B C D \n",
      "  A B C \n",
      "   A B \n",
      "    A \n"
     ]
    }
   ],
   "source": [
    "n = int(input(\"Enter no.of rows:\"))\n",
    "for i in range(1,n+1):\n",
    "    print(\" \"*(i-1),end=\"\")\n",
    "    for j in range(1,n+2-i):\n",
    "        print(chr(64+j),end=\" \")\n",
    "    print()"
   ]
  },
  {
   "cell_type": "code",
   "execution_count": 5,
   "metadata": {},
   "outputs": [
    {
     "name": "stdout",
     "output_type": "stream",
     "text": [
      "Enter no.of rows:5\n",
      "A B C D E \n",
      " A B C D \n",
      "  A B C \n",
      "   A B \n",
      "    A \n"
     ]
    }
   ],
   "source": [
    "n = int(input(\"Enter no.of rows:\"))\n",
    "for i in range(1,n+1):\n",
    "    print(\" \"*(i-1),end=\"\")\n",
    "    for j in range(65,66+n-i):\n",
    "        print(chr(j),end=\" \")\n",
    "    print()"
   ]
  },
  {
   "cell_type": "code",
   "execution_count": 6,
   "metadata": {},
   "outputs": [
    {
     "name": "stdout",
     "output_type": "stream",
     "text": [
      "Enter no.of rows:5\n",
      "     * \n",
      "    * * * \n",
      "   * * * * * \n",
      "  * * * * * * * \n",
      " * * * * * * * * * \n"
     ]
    }
   ],
   "source": [
    "n = int(input(\"Enter no.of rows:\"))\n",
    "for i in range(1,n+1):\n",
    "    print(\" \"*(n-i),'* '*(2*i-1))"
   ]
  },
  {
   "cell_type": "code",
   "execution_count": 8,
   "metadata": {},
   "outputs": [
    {
     "name": "stdout",
     "output_type": "stream",
     "text": [
      "Enter no.of rows:5\n",
      "     1 \n",
      "    2 2 2 \n",
      "   3 3 3 3 3 \n",
      "  4 4 4 4 4 4 4 \n",
      " 5 5 5 5 5 5 5 5 5 \n"
     ]
    }
   ],
   "source": [
    "n = int(input(\"Enter no.of rows:\"))\n",
    "for i in range(1,n+1):\n",
    "    print(\" \"*(n-i),(str(i)+' ')*(2*i-1))"
   ]
  },
  {
   "cell_type": "code",
   "execution_count": 10,
   "metadata": {},
   "outputs": [
    {
     "name": "stdout",
     "output_type": "stream",
     "text": [
      "Enter no.of rows:5\n",
      "     A \n",
      "    B B B \n",
      "   C C C C C \n",
      "  D D D D D D D \n",
      " E E E E E E E E E \n"
     ]
    }
   ],
   "source": [
    "n = int(input(\"Enter no.of rows:\"))\n",
    "for i in range(1,n+1):\n",
    "    print(\" \"*(n-i),(str(chr(64+i)+' '))*(2*i-1))"
   ]
  },
  {
   "cell_type": "code",
   "execution_count": 12,
   "metadata": {},
   "outputs": [
    {
     "name": "stdout",
     "output_type": "stream",
     "text": [
      "Enter no.of rows:5\n",
      "     A \n",
      "    C C C \n",
      "   E E E E E \n",
      "  G G G G G G G \n",
      " I I I I I I I I I \n"
     ]
    }
   ],
   "source": [
    "n = int(input(\"Enter no.of rows:\"))\n",
    "for i in range(1,n+1):\n",
    "    print(\" \"*(n-i),(str(chr(64+2*i-1)+' '))*(2*i-1))"
   ]
  },
  {
   "cell_type": "code",
   "execution_count": 13,
   "metadata": {},
   "outputs": [
    {
     "name": "stdout",
     "output_type": "stream",
     "text": [
      "Enter no.of rows:5\n",
      "    1 \n",
      "   1 2 3 \n",
      "  1 2 3 4 5 \n",
      " 1 2 3 4 5 6 7 \n",
      "1 2 3 4 5 6 7 8 9 \n"
     ]
    }
   ],
   "source": [
    "n = int(input(\"Enter no.of rows:\"))\n",
    "for i in range(1,n+1):\n",
    "    print(\" \"*(n-i),end=\"\")\n",
    "    for j in range(1,2*i):\n",
    "        print(j,end=\" \")\n",
    "    print()"
   ]
  },
  {
   "cell_type": "code",
   "execution_count": 14,
   "metadata": {},
   "outputs": [
    {
     "name": "stdout",
     "output_type": "stream",
     "text": [
      "Enter no.of rows:5\n",
      "    1 \n",
      "   3 2 1 \n",
      "  5 4 3 2 1 \n",
      " 7 6 5 4 3 2 1 \n",
      "9 8 7 6 5 4 3 2 1 \n"
     ]
    }
   ],
   "source": [
    "n = int(input(\"Enter no.of rows:\"))\n",
    "for i in range(1,n+1):\n",
    "    print(\" \"*(n-i),end=\"\")\n",
    "    for j in range(2*i-1,0,-1):\n",
    "        print(j,end=\" \")\n",
    "    print()"
   ]
  },
  {
   "cell_type": "code",
   "execution_count": 1,
   "metadata": {},
   "outputs": [
    {
     "name": "stdout",
     "output_type": "stream",
     "text": [
      "Enter no.of rows:5\n",
      "    A \n",
      "   A B C \n",
      "  A B C D E \n",
      " A B C D E F G \n",
      "A B C D E F G H I \n"
     ]
    }
   ],
   "source": [
    "n = int(input(\"Enter no.of rows:\"))\n",
    "for i in range(1,n+1):\n",
    "    print(\" \"*(n-i),end=\"\")\n",
    "    for j in range(65,65+2*i-1):\n",
    "        print(chr(j),end=\" \")\n",
    "    print()"
   ]
  },
  {
   "cell_type": "code",
   "execution_count": 2,
   "metadata": {},
   "outputs": [
    {
     "name": "stdout",
     "output_type": "stream",
     "text": [
      "Enter no.of rows:5\n",
      "    A \n",
      "   C B A \n",
      "  E D C B A \n",
      " G F E D C B A \n",
      "I H G F E D C B A \n"
     ]
    }
   ],
   "source": [
    "n = int(input(\"Enter no.of rows:\"))\n",
    "for i in range(1,n+1):\n",
    "    print(\" \"*(n-i),end=\"\")\n",
    "    for j in range(65+2*i-2,64,-1):\n",
    "        print(chr(j),end=\" \")\n",
    "    print()"
   ]
  },
  {
   "cell_type": "code",
   "execution_count": 4,
   "metadata": {},
   "outputs": [
    {
     "name": "stdout",
     "output_type": "stream",
     "text": [
      "Enter no.of rows:5\n",
      "    0 \n",
      "   1 0 1 \n",
      "  2 1 0 1 2 \n",
      " 3 2 1 0 1 2 3 \n",
      "4 3 2 1 0 1 2 3 4 \n"
     ]
    }
   ],
   "source": [
    "n = int(input(\"Enter no.of rows:\"))\n",
    "for i in range(1,n+1):\n",
    "    print(\" \"*(n-i),end=\"\")\n",
    "    for j in range(1,i):\n",
    "        print(i-j,end=\" \")\n",
    "    for k in range(0,i):\n",
    "        print(k,end=\" \")\n",
    "    print()"
   ]
  },
  {
   "cell_type": "code",
   "execution_count": 2,
   "metadata": {},
   "outputs": [
    {
     "name": "stdout",
     "output_type": "stream",
     "text": [
      "Enter no.of rows:5\n",
      "    A \n",
      "   B A B \n",
      "  C B A B C \n",
      " D C B A B C D \n",
      "E D C B A B C D E \n"
     ]
    }
   ],
   "source": [
    "n = int(input(\"Enter no.of rows:\"))\n",
    "for i in range(1,n+1):\n",
    "    print(\" \"*(n-i),end=\"\")\n",
    "    for j in range(1,i):\n",
    "        print(chr(i-j+65),end=\" \")\n",
    "    for k in range(0,i):\n",
    "        print(chr(k+65),end=\" \")\n",
    "    print()"
   ]
  },
  {
   "cell_type": "code",
   "execution_count": 3,
   "metadata": {},
   "outputs": [
    {
     "name": "stdout",
     "output_type": "stream",
     "text": [
      "Enter no.of rows:5\n",
      "    1 \n",
      "   1 2 1 \n",
      "  1 2 3 2 1 \n",
      " 1 2 3 4 3 2 1 \n",
      "1 2 3 4 5 4 3 2 1 \n"
     ]
    }
   ],
   "source": [
    "n = int(input(\"Enter no.of rows:\"))\n",
    "for i in range(1,n+1):\n",
    "    print(\" \"*(n-i),end=\"\")\n",
    "    for j in range(1,i+1):\n",
    "        print(j,end=\" \")\n",
    "    for k in range(i-1,0,-1):\n",
    "        print(k,end=\" \")\n",
    "    print()"
   ]
  },
  {
   "cell_type": "code",
   "execution_count": 4,
   "metadata": {},
   "outputs": [
    {
     "name": "stdout",
     "output_type": "stream",
     "text": [
      "Enter no.of rows:5\n",
      "    A \n",
      "   A B A \n",
      "  A B C B A \n",
      " A B C D C B A \n",
      "A B C D E D C B A \n"
     ]
    }
   ],
   "source": [
    "n = int(input(\"Enter no.of rows:\"))\n",
    "for i in range(1,n+1):\n",
    "    print(\" \"*(n-i),end=\"\")\n",
    "    for j in range(1,i+1):\n",
    "        print(chr(64+j),end=\" \")\n",
    "    for k in range(i-1,0,-1):\n",
    "        print(chr(64+k),end=\" \")\n",
    "    print()"
   ]
  },
  {
   "cell_type": "code",
   "execution_count": 5,
   "metadata": {},
   "outputs": [
    {
     "name": "stdout",
     "output_type": "stream",
     "text": [
      "Enter no.of rows:5\n",
      "    5 \n",
      "   5 4 \n",
      "  5 4 3 \n",
      " 5 4 3 2 \n",
      "5 4 3 2 1 \n"
     ]
    }
   ],
   "source": [
    "n = int(input(\"Enter no.of rows:\"))\n",
    "for i in range(1,n+1):\n",
    "    print(\" \"*(n-i),end=\"\")\n",
    "    for j in range(1,i+1):\n",
    "        print(n+1-j,end=\" \")\n",
    "    print()"
   ]
  },
  {
   "cell_type": "code",
   "execution_count": 7,
   "metadata": {},
   "outputs": [
    {
     "name": "stdout",
     "output_type": "stream",
     "text": [
      "Enter no.of rows:5\n",
      "* * * * * * * * * \n",
      " * * * * * * * \n",
      "  * * * * * \n",
      "   * * * \n",
      "    * \n"
     ]
    }
   ],
   "source": [
    "n = int(input(\"Enter no.of rows:\"))\n",
    "for i in range(1,n+1):\n",
    "    print(\" \"*(i-1),end=\"\")\n",
    "    for j in range(1,n+2-i):\n",
    "        print(\"*\",end=\" \")\n",
    "    for k in range(1,n+1-i):\n",
    "        print(\"*\",end=\" \")\n",
    "    print()"
   ]
  },
  {
   "cell_type": "code",
   "execution_count": 1,
   "metadata": {},
   "outputs": [
    {
     "name": "stdout",
     "output_type": "stream",
     "text": [
      "Enter no.of rows:5\n",
      "5 5 5 5 5 5 5 5 5 \n",
      " 4 4 4 4 4 4 4 \n",
      "  3 3 3 3 3 \n",
      "   2 2 2 \n",
      "    1 \n"
     ]
    }
   ],
   "source": [
    "n = int(input(\"Enter no.of rows:\"))\n",
    "for i in range(1,n+1):\n",
    "    print(\" \"*(i-1),end=\"\")\n",
    "    for j in range(0,n+1-i):\n",
    "        print(n+1-i,end=\" \")\n",
    "    for k in range(1,n+1-i):\n",
    "        print(n+1-i,end=\" \")\n",
    "    print()"
   ]
  },
  {
   "cell_type": "code",
   "execution_count": 2,
   "metadata": {},
   "outputs": [
    {
     "name": "stdout",
     "output_type": "stream",
     "text": [
      "Enter no.of rows:5\n",
      "9 9 9 9 9 9 9 9 9 \n",
      " 7 7 7 7 7 7 7 \n",
      "  5 5 5 5 5 \n",
      "   3 3 3 \n",
      "    1 \n"
     ]
    }
   ],
   "source": [
    "n = int(input(\"Enter no.of rows:\"))\n",
    "for i in range(1,n+1):\n",
    "    print(\" \"*(i-1),end=\"\")\n",
    "    for j in range(0,n+1-i):\n",
    "        print(2*n+1-2*i,end=\" \")\n",
    "    for k in range(1,n+1-i):\n",
    "        print(2*n+1-2*i,end=\" \")\n",
    "    print()"
   ]
  },
  {
   "cell_type": "code",
   "execution_count": 4,
   "metadata": {},
   "outputs": [
    {
     "name": "stdout",
     "output_type": "stream",
     "text": [
      "Enter no.of rows:4\n",
      "1 2 3 4 5 6 7 \n",
      " 1 2 3 4 5 \n",
      "  1 2 3 \n",
      "   1 \n"
     ]
    }
   ],
   "source": [
    "n = int(input(\"Enter no.of rows:\"))\n",
    "for i in range(1,n+1):\n",
    "    print(\" \"*(i-1),end=\"\")\n",
    "    for j in range(1,n+2-i):\n",
    "        print(j,end=\" \")\n",
    "    for k in range(2,n+2-i):\n",
    "        print(n+k-i,end=\" \")\n",
    "    print()"
   ]
  },
  {
   "cell_type": "code",
   "execution_count": 1,
   "metadata": {},
   "outputs": [
    {
     "name": "stdout",
     "output_type": "stream",
     "text": [
      "Enter no.of rows:5\n",
      "E E E E E E E E E \n",
      " D D D D D D D \n",
      "  C C C C C \n",
      "   B B B \n",
      "    A \n"
     ]
    }
   ],
   "source": [
    "n = int(input(\"Enter no.of rows:\"))\n",
    "for i in range(1,n+1):\n",
    "    print(\" \"*(i-1),end=\"\")\n",
    "    for j in range(1,n+2-i):\n",
    "        print(chr(65+n-i),end=\" \")\n",
    "    for k in range(2,n+2-i):\n",
    "        print(chr(65+n-i),end=\" \")\n",
    "    print()"
   ]
  },
  {
   "cell_type": "code",
   "execution_count": 2,
   "metadata": {},
   "outputs": [
    {
     "name": "stdout",
     "output_type": "stream",
     "text": [
      "Enter no.of rows:5\n",
      "I I I I I I I I I \n",
      " G G G G G G G \n",
      "  E E E E E \n",
      "   C C C \n",
      "    A \n"
     ]
    }
   ],
   "source": [
    "n = int(input(\"Enter no.of rows:\"))\n",
    "for i in range(1,n+1):\n",
    "    print(\" \"*(i-1),end=\"\")\n",
    "    for j in range(1,n+2-i):\n",
    "        print(chr(65+2*n-2*i),end=\" \")\n",
    "    for k in range(2,n+2-i):\n",
    "        print(chr(65+2*n-2*i),end=\" \")\n",
    "    print()\n",
    "    "
   ]
  },
  {
   "cell_type": "markdown",
   "metadata": {},
   "source": [
    "## Pattern 54"
   ]
  },
  {
   "cell_type": "code",
   "execution_count": 3,
   "metadata": {},
   "outputs": [
    {
     "name": "stdout",
     "output_type": "stream",
     "text": [
      "Enter no.of rows:4\n",
      "A B C D E F G \n",
      " A B C D E \n",
      "  A B C \n",
      "   A \n"
     ]
    }
   ],
   "source": [
    "n = int(input(\"Enter no.of rows:\"))\n",
    "for i in range(1,n+1):\n",
    "    print(\" \"*(i-1),end=\"\")\n",
    "    for j in range(1,n+2-i):\n",
    "        print(chr(64+j),end=\" \")\n",
    "    for k in range(2,n+2-i):\n",
    "        print(chr(68+k-i),end=\" \")\n",
    "    print()"
   ]
  },
  {
   "cell_type": "markdown",
   "metadata": {},
   "source": [
    "## Pattern 55"
   ]
  },
  {
   "cell_type": "code",
   "execution_count": 3,
   "metadata": {},
   "outputs": [
    {
     "name": "stdout",
     "output_type": "stream",
     "text": [
      "Enter no.of rows:5\n",
      "    1 \n",
      "   1 2 \n",
      "  1 2 3 \n",
      " 1 2 3 4 \n",
      "1 2 3 4 5 \n",
      " 1 2 3 4 \n",
      "  1 2 3 \n",
      "   1 2 \n",
      "    1 \n"
     ]
    }
   ],
   "source": [
    "n = int(input(\"Enter no.of rows:\"))\n",
    "for i in range(1,n+1):\n",
    "    print(\" \"*(n-i),end=\"\")\n",
    "    for j in range(1,i+1):\n",
    "        print(j,end=\" \")\n",
    "    print()\n",
    "for k in range(1,n):\n",
    "    print(\" \"*k,end=\"\")\n",
    "    for l in range(1,n+1-k):\n",
    "       print(l,end=\" \")\n",
    "    print()"
   ]
  },
  {
   "cell_type": "markdown",
   "metadata": {},
   "source": [
    "## Pattern 56"
   ]
  },
  {
   "cell_type": "code",
   "execution_count": 4,
   "metadata": {},
   "outputs": [
    {
     "name": "stdout",
     "output_type": "stream",
     "text": [
      "Enter no.of rows:5\n",
      "    * \n",
      "   * * \n",
      "  * * * \n",
      " * * * * \n",
      "* * * * * \n",
      " * * * * \n",
      "  * * * \n",
      "   * * \n",
      "    * \n"
     ]
    }
   ],
   "source": [
    "n = int(input(\"Enter no.of rows:\"))\n",
    "for i in range(1,n+1):\n",
    "    print(\" \"*(n-i),end=\"\")\n",
    "    for j in range(1,i+1):\n",
    "        print(\"*\",end=\" \")\n",
    "    print()\n",
    "for k in range(1,n):\n",
    "    print(\" \"*k,end=\"\")\n",
    "    for l in range(1,n+1-k):\n",
    "        print(\"*\",end=\" \")\n",
    "    print()"
   ]
  },
  {
   "cell_type": "markdown",
   "metadata": {},
   "source": [
    "## Pattern 57"
   ]
  },
  {
   "cell_type": "code",
   "execution_count": 5,
   "metadata": {},
   "outputs": [
    {
     "name": "stdout",
     "output_type": "stream",
     "text": [
      "Enter no.of rows:5\n",
      "    4 \n",
      "   4 3 \n",
      "  4 3 2 \n",
      " 4 3 2 1 \n",
      "4 3 2 1 0 \n",
      " 4 3 2 1 \n",
      "  4 3 2 \n",
      "   4 3 \n",
      "    4 \n"
     ]
    }
   ],
   "source": [
    "n = int(input(\"Enter no.of rows:\"))\n",
    "for i in range(1,n+1):\n",
    "    print(\" \"*(n-i),end=\"\")\n",
    "    for j in range(1,i+1):\n",
    "        print(n-j,end=\" \")\n",
    "    print()\n",
    "for k in range(1,n):\n",
    "    print(\" \"*k,end=\"\")\n",
    "    for l in range(1,n+1-k):\n",
    "        print(n-l,end=\" \")\n",
    "    print()"
   ]
  },
  {
   "cell_type": "markdown",
   "metadata": {},
   "source": [
    "## Pattern 58"
   ]
  },
  {
   "cell_type": "code",
   "execution_count": 10,
   "metadata": {},
   "outputs": [
    {
     "name": "stdout",
     "output_type": "stream",
     "text": [
      "Enter no.of rows:4\n",
      "   3 \n",
      "  2 3 \n",
      " 1 2 3 \n",
      "0 1 2 3 \n",
      " 1 2 3 \n",
      "  2 3 \n",
      "   3 \n"
     ]
    }
   ],
   "source": [
    "n = int(input(\"Enter no.of rows:\"))\n",
    "for i in range(1,n+1):\n",
    "    print(\" \"*(n-i),end=\"\")\n",
    "    for j in range(0,i):\n",
    "        print(n+j-i,end=\" \")\n",
    "    print()\n",
    "for k in range(1,n):\n",
    "    print(\" \"*k,end=\"\")\n",
    "    for l in range(1,n+1-k):\n",
    "        print(l+k-1,end=\" \")\n",
    "    print()"
   ]
  },
  {
   "cell_type": "code",
   "execution_count": null,
   "metadata": {},
   "outputs": [],
   "source": []
  },
  {
   "cell_type": "markdown",
   "metadata": {},
   "source": [
    "## Pattern 59"
   ]
  },
  {
   "cell_type": "code",
   "execution_count": 1,
   "metadata": {},
   "outputs": [
    {
     "name": "stdout",
     "output_type": "stream",
     "text": [
      "Enter no.of rows:5\n",
      "    E \n",
      "   D E \n",
      "  C D E \n",
      " B C D E \n",
      "A B C D E \n",
      " B C D E \n",
      "  C D E \n",
      "   D E \n",
      "    E \n"
     ]
    }
   ],
   "source": [
    "n = int(input(\"Enter no.of rows:\"))\n",
    "for i in range(1,n+1):\n",
    "    print(\" \"*(n-i),end=\"\")\n",
    "    for j in range(0,i):\n",
    "        print(chr(65+n+j-i),end=\" \")\n",
    "    print()\n",
    "for k in range(1,n):\n",
    "    print(\" \"*k,end=\"\")\n",
    "    for l in range(0,n-k):\n",
    "        print(chr(65+k+l),end=\" \")\n",
    "    print()"
   ]
  },
  {
   "cell_type": "code",
   "execution_count": null,
   "metadata": {},
   "outputs": [],
   "source": []
  },
  {
   "cell_type": "markdown",
   "metadata": {},
   "source": [
    "## Pattern 60"
   ]
  },
  {
   "cell_type": "code",
   "execution_count": 3,
   "metadata": {},
   "outputs": [
    {
     "name": "stdout",
     "output_type": "stream",
     "text": [
      "Enter no.of rows:5\n",
      "* \n",
      "* * \n",
      "* * * \n",
      "* * * * \n",
      "* * * * * \n",
      "* * * * \n",
      "* * * \n",
      "* * \n",
      "* \n",
      "\n"
     ]
    }
   ],
   "source": [
    "n = int(input(\"Enter no.of rows:\"))\n",
    "for i in range(1,n+1):\n",
    "    for j in range(1,i+1):\n",
    "        print(\"*\",end=\" \")\n",
    "    print()\n",
    "for k in range(1,n+1):\n",
    "    for l in range(1,n+1-k):\n",
    "        print(\"*\",end=\" \")\n",
    "    print()"
   ]
  },
  {
   "cell_type": "code",
   "execution_count": null,
   "metadata": {},
   "outputs": [],
   "source": []
  },
  {
   "cell_type": "markdown",
   "metadata": {},
   "source": [
    "## Pattern 61"
   ]
  },
  {
   "cell_type": "code",
   "execution_count": 1,
   "metadata": {},
   "outputs": [
    {
     "name": "stdout",
     "output_type": "stream",
     "text": [
      "Enter no.of rows:5\n",
      "4 \n",
      "4 3 \n",
      "4 3 2 \n",
      "4 3 2 1 \n",
      "4 3 2 1 0 \n",
      "4 3 2 1 \n",
      "4 3 2 \n",
      "4 3 \n",
      "4 \n",
      "\n"
     ]
    }
   ],
   "source": [
    "n = int(input(\"Enter no.of rows:\"))\n",
    "for i in range(1,n+1):\n",
    "    for j in range(1,i+1):\n",
    "        print(n-j,end=\" \")\n",
    "    print()\n",
    "for k in range(1,n+1):\n",
    "    for l in range(1,n+1-k):\n",
    "        print(n-l,end=\" \")\n",
    "    print()"
   ]
  },
  {
   "cell_type": "code",
   "execution_count": null,
   "metadata": {},
   "outputs": [],
   "source": []
  },
  {
   "cell_type": "markdown",
   "metadata": {},
   "source": [
    "## Pattern 62"
   ]
  },
  {
   "cell_type": "code",
   "execution_count": 2,
   "metadata": {},
   "outputs": [
    {
     "name": "stdout",
     "output_type": "stream",
     "text": [
      "Enter no.of rows:5\n",
      "4 \n",
      "3 4 \n",
      "2 3 4 \n",
      "1 2 3 4 \n",
      "0 1 2 3 4 \n",
      "1 2 3 4 \n",
      "2 3 4 \n",
      "3 4 \n",
      "4 \n",
      "\n"
     ]
    }
   ],
   "source": [
    "n = int(input(\"Enter no.of rows:\"))\n",
    "for i in range(1,n+1):\n",
    "    for j in range(1,i+1):\n",
    "        print(n-i+j-1,end=\" \")\n",
    "    print()\n",
    "for k in range(1,n+1):\n",
    "    for l in range(0,n-k):\n",
    "        print(k+l,end=\" \")\n",
    "    print()"
   ]
  },
  {
   "cell_type": "code",
   "execution_count": null,
   "metadata": {},
   "outputs": [],
   "source": []
  },
  {
   "cell_type": "markdown",
   "metadata": {},
   "source": [
    "## Pattern 63"
   ]
  },
  {
   "cell_type": "code",
   "execution_count": 3,
   "metadata": {},
   "outputs": [
    {
     "name": "stdout",
     "output_type": "stream",
     "text": [
      "Enter no.of rows:5\n",
      "E \n",
      "D D \n",
      "C C C \n",
      "B B B B \n",
      "A A A A A \n",
      "B B B B \n",
      "C C C \n",
      "D D \n",
      "E \n",
      "\n"
     ]
    }
   ],
   "source": [
    "n = int(input(\"Enter no.of rows:\"))\n",
    "for i in range(1,n+1):\n",
    "    for j in range(1,i+1):\n",
    "        print(chr(65+n-i),end=\" \")\n",
    "    print()\n",
    "for k in range(1,n+1):\n",
    "    for l in range(0,n-k):\n",
    "        print(chr(65+k),end=\" \")\n",
    "    print()"
   ]
  },
  {
   "cell_type": "code",
   "execution_count": null,
   "metadata": {},
   "outputs": [],
   "source": []
  },
  {
   "cell_type": "markdown",
   "metadata": {},
   "source": [
    "## Pattern 64"
   ]
  },
  {
   "cell_type": "code",
   "execution_count": 4,
   "metadata": {},
   "outputs": [
    {
     "name": "stdout",
     "output_type": "stream",
     "text": [
      "Enter no.of rows:5\n",
      "E \n",
      "E D \n",
      "E D C \n",
      "E D C B \n",
      "E D C B A \n",
      "E D C B \n",
      "E D C \n",
      "E D \n",
      "E \n",
      "\n"
     ]
    }
   ],
   "source": [
    "n = int(input(\"Enter no.of rows:\"))\n",
    "for i in range(1,n+1):\n",
    "    for j in range(1,i+1):\n",
    "        print(chr(65+n-j),end=\" \")\n",
    "    print()\n",
    "for k in range(1,n+1):\n",
    "    for l in range(n-k,0,-1):\n",
    "        print(chr(64+l+k),end=\" \")\n",
    "    print()"
   ]
  },
  {
   "cell_type": "code",
   "execution_count": null,
   "metadata": {},
   "outputs": [],
   "source": []
  },
  {
   "cell_type": "markdown",
   "metadata": {},
   "source": [
    "## Pattern 65"
   ]
  },
  {
   "cell_type": "code",
   "execution_count": 1,
   "metadata": {},
   "outputs": [
    {
     "name": "stdout",
     "output_type": "stream",
     "text": [
      "Enter no.of rows:5\n",
      "E \n",
      "D E \n",
      "C D E \n",
      "B C D E \n",
      "A B C D E \n",
      "B C D E \n",
      "C D E \n",
      "D E \n",
      "E \n",
      "\n"
     ]
    }
   ],
   "source": [
    "n = int(input(\"Enter no.of rows:\"))\n",
    "for i in range(1,n+1):\n",
    "    for j in range(1,i+1):\n",
    "        print(chr(64+n-i+j),end=\" \")\n",
    "    print()\n",
    "for k in range(1,n+1):\n",
    "    for l in range(1,n-k+1):\n",
    "        print(chr(64+l+k),end=\" \")\n",
    "    print()"
   ]
  },
  {
   "cell_type": "code",
   "execution_count": null,
   "metadata": {},
   "outputs": [],
   "source": []
  },
  {
   "cell_type": "markdown",
   "metadata": {},
   "source": [
    "## Pattern 66"
   ]
  },
  {
   "cell_type": "code",
   "execution_count": 2,
   "metadata": {},
   "outputs": [
    {
     "name": "stdout",
     "output_type": "stream",
     "text": [
      "Enter no.of rows:5\n",
      "    * \n",
      "   * * \n",
      "  * * * \n",
      " * * * * \n",
      "* * * * * \n"
     ]
    }
   ],
   "source": [
    "n = int(input(\"Enter no.of rows:\"))\n",
    "for i in range(1,n+1):\n",
    "    print(\" \"*(n-i),end=\"\")\n",
    "    for j in range(1,i+1):\n",
    "        print(\"*\",end=\" \")\n",
    "    print()"
   ]
  },
  {
   "cell_type": "code",
   "execution_count": null,
   "metadata": {},
   "outputs": [],
   "source": []
  },
  {
   "cell_type": "markdown",
   "metadata": {},
   "source": [
    "## Pattern 67"
   ]
  },
  {
   "cell_type": "code",
   "execution_count": 3,
   "metadata": {},
   "outputs": [
    {
     "name": "stdout",
     "output_type": "stream",
     "text": [
      "Enter no.of rows:5\n",
      "    1 \n",
      "   2 2 \n",
      "  3 3 3 \n",
      " 4 4 4 4 \n",
      "5 5 5 5 5 \n"
     ]
    }
   ],
   "source": [
    "n = int(input(\"Enter no.of rows:\"))\n",
    "for i in range(1,n+1):\n",
    "    print(\" \"*(n-i),end=\"\")\n",
    "    for j in range(1,i+1):\n",
    "        print(i,end=\" \")\n",
    "    print()"
   ]
  },
  {
   "cell_type": "code",
   "execution_count": null,
   "metadata": {},
   "outputs": [],
   "source": []
  },
  {
   "cell_type": "markdown",
   "metadata": {},
   "source": [
    "## Pattern 68"
   ]
  },
  {
   "cell_type": "code",
   "execution_count": 5,
   "metadata": {},
   "outputs": [
    {
     "name": "stdout",
     "output_type": "stream",
     "text": [
      "Enter no.of rows:5\n",
      "    1 \n",
      "   1 2 \n",
      "  1 2 3 \n",
      " 1 2 3 4 \n",
      "1 2 3 4 5 \n"
     ]
    }
   ],
   "source": [
    "n = int(input(\"Enter no.of rows:\"))\n",
    "for i in range(1,n+1):\n",
    "    print(\" \"*(n-i),end=\"\")\n",
    "    for j in range(1,i+1):\n",
    "        print(j,end=\" \")\n",
    "    print()"
   ]
  },
  {
   "cell_type": "code",
   "execution_count": null,
   "metadata": {},
   "outputs": [],
   "source": []
  },
  {
   "cell_type": "markdown",
   "metadata": {},
   "source": [
    "## Pattern 69"
   ]
  },
  {
   "cell_type": "code",
   "execution_count": 6,
   "metadata": {},
   "outputs": [
    {
     "name": "stdout",
     "output_type": "stream",
     "text": [
      "Enter no.of rows:5\n",
      "    A \n",
      "   B B \n",
      "  C C C \n",
      " D D D D \n",
      "E E E E E \n"
     ]
    }
   ],
   "source": [
    "n = int(input(\"Enter no.of rows:\"))\n",
    "for i in range(1,n+1):\n",
    "    print(\" \"*(n-i),end=\"\")\n",
    "    for j in range(1,i+1):\n",
    "        print(chr(64+i),end=\" \")\n",
    "    print()"
   ]
  },
  {
   "cell_type": "code",
   "execution_count": null,
   "metadata": {},
   "outputs": [],
   "source": []
  },
  {
   "cell_type": "markdown",
   "metadata": {},
   "source": [
    "## Pattern 70"
   ]
  },
  {
   "cell_type": "code",
   "execution_count": 7,
   "metadata": {},
   "outputs": [
    {
     "name": "stdout",
     "output_type": "stream",
     "text": [
      "Enter no.of rows:5\n",
      "    A \n",
      "   A B \n",
      "  A B C \n",
      " A B C D \n",
      "A B C D E \n"
     ]
    }
   ],
   "source": [
    "n = int(input(\"Enter no.of rows:\"))\n",
    "for i in range(1,n+1):\n",
    "    print(\" \"*(n-i),end=\"\")\n",
    "    for j in range(1,i+1):\n",
    "        print(chr(64+j),end=\" \")\n",
    "    print()"
   ]
  },
  {
   "cell_type": "code",
   "execution_count": null,
   "metadata": {},
   "outputs": [],
   "source": []
  },
  {
   "cell_type": "markdown",
   "metadata": {},
   "source": [
    "## Pattern 71"
   ]
  },
  {
   "cell_type": "code",
   "execution_count": 1,
   "metadata": {},
   "outputs": [
    {
     "name": "stdout",
     "output_type": "stream",
     "text": [
      "Enter no.of rows:5\n",
      "* * * * * \n",
      " * * * * \n",
      "  * * * \n",
      "   * * \n",
      "    * \n"
     ]
    }
   ],
   "source": [
    "n = int(input(\"Enter no.of rows:\"))\n",
    "for i in range(1,n+1):\n",
    "    print(\" \"*(i-1),end=\"\")\n",
    "    for j in range(1,n+2-i):\n",
    "        print(\"*\",end=\" \")\n",
    "    print()"
   ]
  },
  {
   "cell_type": "code",
   "execution_count": null,
   "metadata": {},
   "outputs": [],
   "source": []
  },
  {
   "cell_type": "markdown",
   "metadata": {},
   "source": [
    "## Pattern 72"
   ]
  },
  {
   "cell_type": "code",
   "execution_count": 2,
   "metadata": {},
   "outputs": [
    {
     "name": "stdout",
     "output_type": "stream",
     "text": [
      "Enter no.of rows:5\n",
      "5 5 5 5 5 \n",
      " 4 4 4 4 \n",
      "  3 3 3 \n",
      "   2 2 \n",
      "    1 \n"
     ]
    }
   ],
   "source": [
    "n = int(input(\"Enter no.of rows:\"))\n",
    "for i in range(1,n+1):\n",
    "    print(\" \"*(i-1),end=\"\")\n",
    "    for j in range(1,n+2-i):\n",
    "        print(n-i+1,end=\" \")\n",
    "    print()"
   ]
  },
  {
   "cell_type": "code",
   "execution_count": null,
   "metadata": {},
   "outputs": [],
   "source": []
  },
  {
   "cell_type": "markdown",
   "metadata": {},
   "source": [
    "## Pattern 73"
   ]
  },
  {
   "cell_type": "code",
   "execution_count": 3,
   "metadata": {},
   "outputs": [
    {
     "name": "stdout",
     "output_type": "stream",
     "text": [
      "Enter no.of rows:5\n",
      "5 4 3 2 1 \n",
      " 4 3 2 1 \n",
      "  3 2 1 \n",
      "   2 1 \n",
      "    1 \n"
     ]
    }
   ],
   "source": [
    "n = int(input(\"Enter no.of rows:\"))\n",
    "for i in range(1,n+1):\n",
    "    print(\" \"*(i-1),end=\"\")\n",
    "    for j in range(1,n+2-i):\n",
    "        print(n+2-i-j,end=\" \")\n",
    "    print()"
   ]
  },
  {
   "cell_type": "code",
   "execution_count": null,
   "metadata": {},
   "outputs": [],
   "source": []
  },
  {
   "cell_type": "markdown",
   "metadata": {},
   "source": [
    "## Pattern 74"
   ]
  },
  {
   "cell_type": "code",
   "execution_count": 4,
   "metadata": {},
   "outputs": [
    {
     "name": "stdout",
     "output_type": "stream",
     "text": [
      "Enter no.of rows:5\n",
      "E E E E E \n",
      " D D D D \n",
      "  C C C \n",
      "   B B \n",
      "    A \n"
     ]
    }
   ],
   "source": [
    "n = int(input(\"Enter no.of rows:\"))\n",
    "for i in range(1,n+1):\n",
    "    print(\" \"*(i-1),end=\"\")\n",
    "    for j in range(1,n+2-i):\n",
    "        print(chr(65+n-i),end=\" \")\n",
    "    print()"
   ]
  },
  {
   "cell_type": "code",
   "execution_count": null,
   "metadata": {},
   "outputs": [],
   "source": []
  },
  {
   "cell_type": "markdown",
   "metadata": {},
   "source": [
    "## Pattern 75"
   ]
  },
  {
   "cell_type": "code",
   "execution_count": 5,
   "metadata": {},
   "outputs": [
    {
     "name": "stdout",
     "output_type": "stream",
     "text": [
      "Enter no.of rows:5\n",
      "E D C B A \n",
      " D C B A \n",
      "  C B A \n",
      "   B A \n",
      "    A \n"
     ]
    }
   ],
   "source": [
    "n = int(input(\"Enter no.of rows:\"))\n",
    "for i in range(1,n+1):\n",
    "    print(\" \"*(i-1),end=\"\")\n",
    "    for j in range(1,n+2-i):\n",
    "        print(chr(65+n+1-i-j),end=\" \")\n",
    "    print()"
   ]
  },
  {
   "cell_type": "code",
   "execution_count": null,
   "metadata": {},
   "outputs": [],
   "source": []
  },
  {
   "cell_type": "markdown",
   "metadata": {},
   "source": [
    "## Pattern 76"
   ]
  },
  {
   "cell_type": "code",
   "execution_count": 6,
   "metadata": {},
   "outputs": [
    {
     "name": "stdout",
     "output_type": "stream",
     "text": [
      "Enter no.of rows:5\n",
      "A B C D E \n",
      " A B C D \n",
      "  A B C \n",
      "   A B \n",
      "    A \n"
     ]
    }
   ],
   "source": [
    "n = int(input(\"Enter no.of rows:\"))\n",
    "for i in range(1,n+1):\n",
    "    print(\" \"*(i-1),end=\"\")\n",
    "    for j in range(1,n+2-i):\n",
    "        print(chr(64+j),end=\" \")\n",
    "    print()"
   ]
  },
  {
   "cell_type": "code",
   "execution_count": null,
   "metadata": {},
   "outputs": [],
   "source": []
  },
  {
   "cell_type": "markdown",
   "metadata": {},
   "source": [
    "## Pattern 77"
   ]
  },
  {
   "cell_type": "code",
   "execution_count": 7,
   "metadata": {},
   "outputs": [
    {
     "name": "stdout",
     "output_type": "stream",
     "text": [
      "Enter no.of rows:5\n",
      "    * \n",
      "   * * \n",
      "  * * * \n",
      " * * * * \n",
      "* * * * * \n",
      " * * * * \n",
      "  * * * \n",
      "   * * \n",
      "    * \n"
     ]
    }
   ],
   "source": [
    "n = int(input(\"Enter no.of rows:\"))\n",
    "for i in range(1,n+1):\n",
    "    print(\" \"*(n-i),end=\"\")\n",
    "    for j in range(1,i+1):\n",
    "        print(\"*\",end=\" \")\n",
    "    print()\n",
    "for k in range(1,n):\n",
    "    print(\" \"*k,end=\"\")\n",
    "    for l in range(1,n+1-k):\n",
    "        print(\"*\",end=\" \")\n",
    "    print()"
   ]
  },
  {
   "cell_type": "code",
   "execution_count": null,
   "metadata": {},
   "outputs": [],
   "source": []
  },
  {
   "cell_type": "markdown",
   "metadata": {},
   "source": [
    "## Pattern 78"
   ]
  },
  {
   "cell_type": "code",
   "execution_count": 8,
   "metadata": {},
   "outputs": [
    {
     "name": "stdout",
     "output_type": "stream",
     "text": [
      "Enter no.of rows:5\n",
      "    1 \n",
      "   2 2 \n",
      "  3 3 3 \n",
      " 4 4 4 4 \n",
      "5 5 5 5 5 \n",
      " 4 4 4 4 \n",
      "  3 3 3 \n",
      "   2 2 \n",
      "    1 \n"
     ]
    }
   ],
   "source": [
    "n = int(input(\"Enter no.of rows:\"))\n",
    "for i in range(1,n+1):\n",
    "    print(\" \"*(n-i),end=\"\")\n",
    "    for j in range(1,i+1):\n",
    "        print(i,end=\" \")\n",
    "    print()\n",
    "for k in range(1,n):\n",
    "    print(\" \"*k,end=\"\")\n",
    "    for l in range(1,n+1-k):\n",
    "        print(n-k,end=\" \")\n",
    "    print()"
   ]
  },
  {
   "cell_type": "code",
   "execution_count": null,
   "metadata": {},
   "outputs": [],
   "source": []
  },
  {
   "cell_type": "markdown",
   "metadata": {},
   "source": [
    "## Pattern 79"
   ]
  },
  {
   "cell_type": "code",
   "execution_count": 10,
   "metadata": {},
   "outputs": [
    {
     "name": "stdout",
     "output_type": "stream",
     "text": [
      "Enter no.of rows:5\n",
      "    1 \n",
      "   1 2 \n",
      "  1 2 3 \n",
      " 1 2 3 4 \n",
      "1 2 3 4 5 \n",
      " 1 2 3 4 \n",
      "  1 2 3 \n",
      "   1 2 \n",
      "    1 \n"
     ]
    }
   ],
   "source": [
    "n = int(input(\"Enter no.of rows:\"))\n",
    "for i in range(1,n+1):\n",
    "    print(\" \"*(n-i),end=\"\")\n",
    "    for j in range(1,i+1):\n",
    "        print(j,end=\" \")\n",
    "    print()\n",
    "for k in range(1,n):\n",
    "    print(\" \"*k,end=\"\")\n",
    "    for l in range(1,n+1-k):\n",
    "        print(l,end=\" \")\n",
    "    print()"
   ]
  },
  {
   "cell_type": "code",
   "execution_count": null,
   "metadata": {},
   "outputs": [],
   "source": []
  },
  {
   "cell_type": "markdown",
   "metadata": {},
   "source": [
    "## Pattern 80"
   ]
  },
  {
   "cell_type": "code",
   "execution_count": 11,
   "metadata": {},
   "outputs": [
    {
     "name": "stdout",
     "output_type": "stream",
     "text": [
      "Enter no.of rows:5\n",
      "    1 \n",
      "   1 2 \n",
      "  1 2 3 \n",
      " 1 2 3 4 \n",
      "1 2 3 4 5 \n",
      " 2 3 4 5 \n",
      "  3 4 5 \n",
      "   4 5 \n",
      "    5 \n"
     ]
    }
   ],
   "source": [
    "n = int(input(\"Enter no.of rows:\"))\n",
    "for i in range(1,n+1):\n",
    "    print(\" \"*(n-i),end=\"\")\n",
    "    for j in range(1,i+1):\n",
    "        print(j,end=\" \")\n",
    "    print()\n",
    "for k in range(1,n):\n",
    "    print(\" \"*k,end=\"\")\n",
    "    for l in range(1,n+1-k):\n",
    "        print(l+k,end=\" \")\n",
    "    print()"
   ]
  },
  {
   "cell_type": "code",
   "execution_count": null,
   "metadata": {},
   "outputs": [],
   "source": []
  },
  {
   "cell_type": "markdown",
   "metadata": {},
   "source": [
    "## Pattern 81"
   ]
  },
  {
   "cell_type": "code",
   "execution_count": 12,
   "metadata": {},
   "outputs": [
    {
     "name": "stdout",
     "output_type": "stream",
     "text": [
      "Enter no.of rows:5\n",
      "    A \n",
      "   B B \n",
      "  C C C \n",
      " D D D D \n",
      "E E E E E \n",
      " D D D D \n",
      "  C C C \n",
      "   B B \n",
      "    A \n"
     ]
    }
   ],
   "source": [
    "n = int(input(\"Enter no.of rows:\"))\n",
    "for i in range(1,n+1):\n",
    "    print(\" \"*(n-i),end=\"\")\n",
    "    for j in range(1,i+1):\n",
    "        print(chr(64+i),end=\" \")\n",
    "    print()\n",
    "for k in range(1,n):\n",
    "    print(\" \"*k,end=\"\")\n",
    "    for l in range(1,n+1-k):\n",
    "        print(chr(64+n-k),end=\" \")\n",
    "    print()"
   ]
  },
  {
   "cell_type": "code",
   "execution_count": null,
   "metadata": {},
   "outputs": [],
   "source": []
  },
  {
   "cell_type": "markdown",
   "metadata": {},
   "source": [
    "## Pattern 82"
   ]
  },
  {
   "cell_type": "code",
   "execution_count": 14,
   "metadata": {},
   "outputs": [
    {
     "name": "stdout",
     "output_type": "stream",
     "text": [
      "Enter no.of rows:5\n",
      "    A \n",
      "   A B \n",
      "  A B C \n",
      " A B C D \n",
      "A B C D E \n",
      " A B C D \n",
      "  A B C \n",
      "   A B \n",
      "    A \n"
     ]
    }
   ],
   "source": [
    "n = int(input(\"Enter no.of rows:\"))\n",
    "for i in range(1,n+1):\n",
    "    print(\" \"*(n-i),end=\"\")\n",
    "    for j in range(1,i+1):\n",
    "        print(chr(64+j),end=\" \")\n",
    "    print()\n",
    "for k in range(1,n):\n",
    "    print(\" \"*k,end=\"\")\n",
    "    for l in range(1,n+1-k):\n",
    "        print(chr(64+l),end=\" \")\n",
    "    print()"
   ]
  },
  {
   "cell_type": "code",
   "execution_count": null,
   "metadata": {},
   "outputs": [],
   "source": []
  },
  {
   "cell_type": "markdown",
   "metadata": {},
   "source": [
    "## Pattern 83"
   ]
  },
  {
   "cell_type": "code",
   "execution_count": 15,
   "metadata": {},
   "outputs": [
    {
     "name": "stdout",
     "output_type": "stream",
     "text": [
      "Enter no.of rows:5\n",
      "    A \n",
      "   A B \n",
      "  A B C \n",
      " A B C D \n",
      "A B C D E \n",
      " B C D E \n",
      "  C D E \n",
      "   D E \n",
      "    E \n"
     ]
    }
   ],
   "source": [
    "n = int(input(\"Enter no.of rows:\"))\n",
    "for i in range(1,n+1):\n",
    "    print(\" \"*(n-i),end=\"\")\n",
    "    for j in range(1,i+1):\n",
    "        print(chr(64+j),end=\" \")\n",
    "    print()\n",
    "for k in range(1,n):\n",
    "    print(\" \"*k,end=\"\")\n",
    "    for l in range(1,n+1-k):\n",
    "        print(chr(64+l+k),end=\" \")\n",
    "    print()"
   ]
  },
  {
   "cell_type": "code",
   "execution_count": null,
   "metadata": {},
   "outputs": [],
   "source": []
  },
  {
   "cell_type": "markdown",
   "metadata": {},
   "source": [
    "## Pattern 84"
   ]
  },
  {
   "cell_type": "code",
   "execution_count": 1,
   "metadata": {},
   "outputs": [
    {
     "name": "stdout",
     "output_type": "stream",
     "text": [
      "Enter no.of rows:5\n",
      "    5 \n",
      "   4 5 4 \n",
      "  3 4 5 4 3 \n",
      " 2 3 4 5 4 3 2 \n",
      "1 2 3 4 5 4 3 2 1 \n",
      " 2 3 4 5 4 3 2 \n",
      "  3 4 5 4 3 \n",
      "   4 5 4 \n",
      "    5 \n",
      "     \n"
     ]
    }
   ],
   "source": [
    "n = int(input(\"Enter no.of rows:\"))\n",
    "for i in range(1,n+1):\n",
    "    print(\" \"*(n-i),end=\"\")\n",
    "    for j in range(1,i+1):\n",
    "        print(n-i+j,end=\" \")\n",
    "    for k in range(2,i+1):\n",
    "        print(n+1-k,end=\" \")\n",
    "    print()\n",
    "for i in range(1,n+1):\n",
    "    print(\" \"*i,end=\"\")\n",
    "    for j in range(i+1,n+1):\n",
    "        print(j,end=\" \")\n",
    "    for k in range(2,n+1-i):\n",
    "        print(n+1-k,end=\" \")\n",
    "    print()"
   ]
  },
  {
   "cell_type": "code",
   "execution_count": null,
   "metadata": {},
   "outputs": [],
   "source": []
  },
  {
   "cell_type": "markdown",
   "metadata": {},
   "source": [
    "## Pattern 85"
   ]
  },
  {
   "cell_type": "code",
   "execution_count": 2,
   "metadata": {},
   "outputs": [
    {
     "name": "stdout",
     "output_type": "stream",
     "text": [
      "Enter no.of rows:5\n",
      "    5 \n",
      "   5 4 5 \n",
      "  5 4 3 4 5 \n",
      " 5 4 3 2 3 4 5 \n",
      "5 4 3 2 1 2 3 4 5 \n",
      " 5 4 3 2 3 4 5 \n",
      "  5 4 3 4 5 \n",
      "   5 4 5 \n",
      "    5 \n",
      "     \n"
     ]
    }
   ],
   "source": [
    "n = int(input(\"Enter no.of rows:\"))\n",
    "for i in range(1,n+1):\n",
    "    print(\" \"*(n-i),end=\"\")\n",
    "    for j in range(1,i+1):\n",
    "        print(n+1-j,end=\" \")\n",
    "    for k in range(2,i+1):\n",
    "        print(n-i+k,end=\" \")\n",
    "    print()\n",
    "for i in range(1,n+1):\n",
    "    print(\" \"*i,end=\"\")\n",
    "    for j in range(1,n+1-i):\n",
    "        print(n+1-j,end=\" \")\n",
    "    for k in range(2,n+1-i):\n",
    "        print(i+k,end=\" \")\n",
    "    print()"
   ]
  },
  {
   "cell_type": "code",
   "execution_count": null,
   "metadata": {},
   "outputs": [],
   "source": []
  },
  {
   "cell_type": "markdown",
   "metadata": {},
   "source": [
    "## Pattern 86"
   ]
  },
  {
   "cell_type": "code",
   "execution_count": 3,
   "metadata": {},
   "outputs": [
    {
     "name": "stdout",
     "output_type": "stream",
     "text": [
      "Enter no.of rows:5\n",
      "    * \n",
      "   * * \n",
      "  *   * \n",
      " *     * \n",
      "*       * \n"
     ]
    }
   ],
   "source": [
    "n = int(input(\"Enter no.of rows:\"))\n",
    "for i in range(1,n+1):\n",
    "    print(\" \"*(n-i),end=\"\")\n",
    "    for j in range(i,i+1):\n",
    "        print(\"*\",end=\" \")\n",
    "        if i>=2:\n",
    "            print(\" \"*(2*i-4),end=\"\")\n",
    "            for k in range(i,i+1):\n",
    "                print(\"*\",end=\" \")\n",
    "    print()"
   ]
  },
  {
   "cell_type": "code",
   "execution_count": null,
   "metadata": {},
   "outputs": [],
   "source": []
  },
  {
   "cell_type": "markdown",
   "metadata": {},
   "source": [
    "## Pattern 87"
   ]
  },
  {
   "cell_type": "code",
   "execution_count": 4,
   "metadata": {},
   "outputs": [
    {
     "name": "stdout",
     "output_type": "stream",
     "text": [
      "Enter no.of rows:5\n",
      "    1 \n",
      "   2 2 \n",
      "  3   3 \n",
      " 4     4 \n",
      "5       5 \n"
     ]
    }
   ],
   "source": [
    "n = int(input(\"Enter no.of rows:\"))\n",
    "for i in range(1,n+1):\n",
    "    print(\" \"*(n-i),end=\"\")\n",
    "    for j in range(i,i+1):\n",
    "        print(i,end=\" \")\n",
    "        if i>=2:\n",
    "            print(\" \"*(2*i-4),end=\"\")\n",
    "            for k in range(i,i+1):\n",
    "                print(i,end=\" \")\n",
    "    print()"
   ]
  },
  {
   "cell_type": "code",
   "execution_count": null,
   "metadata": {},
   "outputs": [],
   "source": []
  },
  {
   "cell_type": "markdown",
   "metadata": {},
   "source": [
    "## Pattern 88"
   ]
  },
  {
   "cell_type": "code",
   "execution_count": 5,
   "metadata": {},
   "outputs": [
    {
     "name": "stdout",
     "output_type": "stream",
     "text": [
      "Enter no.of rows:5\n",
      "    5 \n",
      "   4 4 \n",
      "  3   3 \n",
      " 2     2 \n",
      "1       1 \n"
     ]
    }
   ],
   "source": [
    "n = int(input(\"Enter no.of rows:\"))\n",
    "for i in range(1,n+1):\n",
    "    print(\" \"*(n-i),end=\"\")\n",
    "    for j in range(i,i+1):\n",
    "        print(n+1-i,end=\" \")\n",
    "        if i>=2:\n",
    "            print(\" \"*(2*i-4),end=\"\")\n",
    "            for k in range(i,i+1):\n",
    "                print(n+1-i,end=\" \")\n",
    "    print()"
   ]
  },
  {
   "cell_type": "code",
   "execution_count": null,
   "metadata": {},
   "outputs": [],
   "source": []
  },
  {
   "cell_type": "markdown",
   "metadata": {},
   "source": [
    "## Pattern 89"
   ]
  },
  {
   "cell_type": "code",
   "execution_count": 6,
   "metadata": {},
   "outputs": [
    {
     "name": "stdout",
     "output_type": "stream",
     "text": [
      "Enter no.of rows:5\n",
      "    E \n",
      "   D D \n",
      "  C   C \n",
      " B     B \n",
      "A       A \n"
     ]
    }
   ],
   "source": [
    "n = int(input(\"Enter no.of rows:\"))\n",
    "for i in range(1,n+1):\n",
    "    print(\" \"*(n-i),end=\"\")\n",
    "    for j in range(i,i+1):\n",
    "        print(chr(64+n+1-i),end=\" \")\n",
    "        if i>=2:\n",
    "            print(\" \"*(2*i-4),end=\"\")\n",
    "            for k in range(i,i+1):\n",
    "                print(chr(64+n+1-i),end=\" \")\n",
    "    print()"
   ]
  },
  {
   "cell_type": "code",
   "execution_count": null,
   "metadata": {},
   "outputs": [],
   "source": []
  },
  {
   "cell_type": "markdown",
   "metadata": {},
   "source": [
    "## Pattern 90"
   ]
  },
  {
   "cell_type": "code",
   "execution_count": 7,
   "metadata": {},
   "outputs": [
    {
     "name": "stdout",
     "output_type": "stream",
     "text": [
      "Enter no.of rows:5\n",
      "    A \n",
      "   B B \n",
      "  C   C \n",
      " D     D \n",
      "E       E \n"
     ]
    }
   ],
   "source": [
    "n = int(input(\"Enter no.of rows:\"))\n",
    "for i in range(1,n+1):\n",
    "    print(\" \"*(n-i),end=\"\")\n",
    "    for j in range(i,i+1):\n",
    "        print(chr(64+i),end=\" \")\n",
    "        if i>=2:\n",
    "            print(\" \"*(2*i-4),end=\"\")\n",
    "            for k in range(i,i+1):\n",
    "                print(chr(64+i),end=\" \")\n",
    "    print()"
   ]
  },
  {
   "cell_type": "code",
   "execution_count": null,
   "metadata": {},
   "outputs": [],
   "source": []
  },
  {
   "cell_type": "markdown",
   "metadata": {},
   "source": [
    "## Pattern 91"
   ]
  },
  {
   "cell_type": "code",
   "execution_count": 2,
   "metadata": {},
   "outputs": [
    {
     "name": "stdout",
     "output_type": "stream",
     "text": [
      "Enter no.of rows:5\n",
      "*       * \n",
      " *     * \n",
      "  *   * \n",
      "   * * \n",
      "    * \n"
     ]
    }
   ],
   "source": [
    "n = int(input(\"Enter no.of rows:\"))\n",
    "for i in range(1,n+1):\n",
    "    print(\" \"*(i-1),end=\"\")\n",
    "    for j in range(i,i+1):\n",
    "        print(\"*\",end=\" \")\n",
    "        if i<=4:\n",
    "            print(\" \"*(2*n-2*i-2),end=\"\")\n",
    "            for k in range(i,i+1):\n",
    "                print(\"*\",end=\" \")\n",
    "    print()"
   ]
  },
  {
   "cell_type": "code",
   "execution_count": null,
   "metadata": {},
   "outputs": [],
   "source": []
  },
  {
   "cell_type": "markdown",
   "metadata": {},
   "source": [
    "## Pattern 92"
   ]
  },
  {
   "cell_type": "code",
   "execution_count": 3,
   "metadata": {},
   "outputs": [
    {
     "name": "stdout",
     "output_type": "stream",
     "text": [
      "Enter no.of rows:5\n",
      "1       1 \n",
      " 2     2 \n",
      "  3   3 \n",
      "   4 4 \n",
      "    5 \n"
     ]
    }
   ],
   "source": [
    "n = int(input(\"Enter no.of rows:\"))\n",
    "for i in range(1,n+1):\n",
    "    print(\" \"*(i-1),end=\"\")\n",
    "    for j in range(i,i+1):\n",
    "        print(i,end=\" \")\n",
    "        if i<=4:\n",
    "            print(\" \"*(2*n-2*i-2),end=\"\")\n",
    "            for k in range(i,i+1):\n",
    "                print(i,end=\" \")\n",
    "    print()"
   ]
  },
  {
   "cell_type": "code",
   "execution_count": null,
   "metadata": {},
   "outputs": [],
   "source": []
  },
  {
   "cell_type": "markdown",
   "metadata": {},
   "source": [
    "## Pattern 93"
   ]
  },
  {
   "cell_type": "code",
   "execution_count": 4,
   "metadata": {},
   "outputs": [
    {
     "name": "stdout",
     "output_type": "stream",
     "text": [
      "Enter no.of rows:5\n",
      "5       5 \n",
      " 4     4 \n",
      "  3   3 \n",
      "   2 2 \n",
      "    1 \n"
     ]
    }
   ],
   "source": [
    "n = int(input(\"Enter no.of rows:\"))\n",
    "for i in range(1,n+1):\n",
    "    print(\" \"*(i-1),end=\"\")\n",
    "    for j in range(i,i+1):\n",
    "        print(n-i+1,end=\" \")\n",
    "        if i<=4:\n",
    "            print(\" \"*(2*n-2*i-2),end=\"\")\n",
    "            for k in range(i,i+1):\n",
    "                print(n-i+1,end=\" \")\n",
    "    print()"
   ]
  },
  {
   "cell_type": "code",
   "execution_count": null,
   "metadata": {},
   "outputs": [],
   "source": []
  },
  {
   "cell_type": "markdown",
   "metadata": {},
   "source": [
    "## Pattern 94"
   ]
  },
  {
   "cell_type": "code",
   "execution_count": 5,
   "metadata": {},
   "outputs": [
    {
     "name": "stdout",
     "output_type": "stream",
     "text": [
      "Enter no.of rows:5\n",
      "E       E \n",
      " D     D \n",
      "  C   C \n",
      "   B B \n",
      "    A \n"
     ]
    }
   ],
   "source": [
    "n = int(input(\"Enter no.of rows:\"))\n",
    "for i in range(1,n+1):\n",
    "    print(\" \"*(i-1),end=\"\")\n",
    "    for j in range(i,i+1):\n",
    "        print(chr(64+n-i+1),end=\" \")\n",
    "        if i<=4:\n",
    "            print(\" \"*(2*n-2*i-2),end=\"\")\n",
    "            for k in range(i,i+1):\n",
    "                print(chr(64+n-i+1),end=\" \")\n",
    "    print()"
   ]
  },
  {
   "cell_type": "code",
   "execution_count": null,
   "metadata": {},
   "outputs": [],
   "source": []
  },
  {
   "cell_type": "markdown",
   "metadata": {},
   "source": [
    "## Pattern 95"
   ]
  },
  {
   "cell_type": "code",
   "execution_count": 6,
   "metadata": {},
   "outputs": [
    {
     "name": "stdout",
     "output_type": "stream",
     "text": [
      "Enter no.of rows:5\n",
      "A       A \n",
      " B     B \n",
      "  C   C \n",
      "   D D \n",
      "    E \n"
     ]
    }
   ],
   "source": [
    "n = int(input(\"Enter no.of rows:\"))\n",
    "for i in range(1,n+1):\n",
    "    print(\" \"*(i-1),end=\"\")\n",
    "    for j in range(i,i+1):\n",
    "        print(chr(64+i),end=\" \")\n",
    "        if i<=4:\n",
    "            print(\" \"*(2*n-2*i-2),end=\"\")\n",
    "            for k in range(i,i+1):\n",
    "                print(chr(64+i),end=\" \")\n",
    "    print()"
   ]
  },
  {
   "cell_type": "code",
   "execution_count": null,
   "metadata": {},
   "outputs": [],
   "source": []
  },
  {
   "cell_type": "markdown",
   "metadata": {},
   "source": [
    "## Pattern 96"
   ]
  },
  {
   "cell_type": "code",
   "execution_count": 9,
   "metadata": {},
   "outputs": [
    {
     "name": "stdout",
     "output_type": "stream",
     "text": [
      "Enter no.of rows:5\n",
      "* * * * * \n",
      " * * * * * \n",
      "  * * * * * \n",
      "   * * * * * \n",
      "    * * * * * \n"
     ]
    }
   ],
   "source": [
    "n = int(input(\"Enter no.of rows:\"))\n",
    "for i in range(1,n+1):\n",
    "    print(\" \"*(i-1),end=\"\")\n",
    "    for j in range(1,n+1):\n",
    "        print(\"*\",end=\" \")\n",
    "    print()"
   ]
  },
  {
   "cell_type": "code",
   "execution_count": 11,
   "metadata": {},
   "outputs": [
    {
     "name": "stdout",
     "output_type": "stream",
     "text": [
      "Enter no.of rows:5\n",
      "* * * * *  \n",
      " * * * * *  \n",
      "  * * * * *  \n",
      "   * * * * *  \n",
      "    * * * * *  \n"
     ]
    }
   ],
   "source": [
    "n = int(input(\"Enter no.of rows:\"))\n",
    "for i in range(1,n+1):\n",
    "    print(\" \"*(i-1),end=\"\")\n",
    "    print(\"* \"*n,end=\" \")\n",
    "    print()"
   ]
  },
  {
   "cell_type": "code",
   "execution_count": null,
   "metadata": {},
   "outputs": [],
   "source": []
  },
  {
   "cell_type": "markdown",
   "metadata": {},
   "source": [
    "## Pattern 97"
   ]
  },
  {
   "cell_type": "code",
   "execution_count": 20,
   "metadata": {},
   "outputs": [
    {
     "name": "stdout",
     "output_type": "stream",
     "text": [
      "Enter no.of rows:5\n",
      "    *     * \n",
      "   * *    * * \n",
      "  * * *   * * * \n",
      " * * * *  * * * * \n",
      "* * * * * * * * * * \n"
     ]
    }
   ],
   "source": [
    "n = int(input(\"Enter no.of rows:\"))\n",
    "for i in range(1,n+1):\n",
    "    print(\" \"*(n-i),end=\"\")\n",
    "    for j in range(1,i+1):\n",
    "        print(\"*\",end=\" \")\n",
    "    print(\" \"*(n-i),end=\"\")\n",
    "    for k in range(1,i+1):\n",
    "        print(\"*\",end=\" \")\n",
    "    print()"
   ]
  },
  {
   "cell_type": "code",
   "execution_count": null,
   "metadata": {},
   "outputs": [],
   "source": []
  },
  {
   "cell_type": "markdown",
   "metadata": {},
   "source": [
    "## Pattern 98"
   ]
  },
  {
   "cell_type": "code",
   "execution_count": 21,
   "metadata": {},
   "outputs": [
    {
     "name": "stdout",
     "output_type": "stream",
     "text": [
      "Enter no.of rows:7\n",
      "1 \n",
      "0 1 \n",
      "1 0 1 \n",
      "0 1 0 1 \n",
      "1 0 1 0 1 \n",
      "0 1 0 1 0 1 \n",
      "1 0 1 0 1 0 1 \n"
     ]
    }
   ],
   "source": [
    "n = int(input(\"Enter no.of rows:\"))\n",
    "for i in range(1,n+1):\n",
    "    for j in range(1,i+1):\n",
    "        if (i%2!=0 and j%2!=0) or (i%2==0 and j%2==0):\n",
    "            print(\"1\",end=\" \")\n",
    "        else:\n",
    "            print(\"0\",end=\" \") \n",
    "    print()"
   ]
  },
  {
   "cell_type": "code",
   "execution_count": null,
   "metadata": {},
   "outputs": [],
   "source": []
  },
  {
   "cell_type": "markdown",
   "metadata": {},
   "source": [
    "## Pattern 99"
   ]
  },
  {
   "cell_type": "code",
   "execution_count": 1,
   "metadata": {},
   "outputs": [
    {
     "name": "stdout",
     "output_type": "stream",
     "text": [
      "Enter no.of rows:4\n",
      "          * \n",
      "         * * \n",
      "        * * * \n",
      "       * * * * \n",
      "        * * * \n",
      "       * * * * \n",
      "      * * * * * \n",
      "     * * * * * * \n",
      "    * * * * * * * \n",
      "   * * * * * * * * \n",
      "       * * * * \n",
      "      * * * * * \n",
      "     * * * * * * \n",
      "    * * * * * * * \n",
      "   * * * * * * * * \n",
      "  * * * * * * * * * \n",
      " * * * * * * * * * * \n",
      "* * * * * * * * * * * \n",
      "        * * * \n",
      "        * * * \n",
      "        * * * \n",
      "        * * * \n",
      "        * * * \n",
      "        * * * \n"
     ]
    }
   ],
   "source": [
    "n=int(input(\"Enter no.of rows:\"))\n",
    "for i in range(1,n+1):\n",
    "    print(\" \"*(2*n-i+3),end=\"\")\n",
    "    for j in range(1,i+1):\n",
    "        print(\"*\",end=\" \")\n",
    "    print()\n",
    "for i in range(1,n+3):\n",
    "    print(\" \"*(2*n-i+1),end=\"\")\n",
    "    for j in range(-1,i+1):\n",
    "        print(\"*\",end=\" \")\n",
    "    print()\n",
    "for i in range(1,n+5):\n",
    "    print(\" \"*(2*n-i),end=\"\")\n",
    "    for j in range(-2,i+1): \n",
    "        print(\"*\",end=\" \")\n",
    "    print()\n",
    "for i in range(1,n+3): \n",
    "    print(\" \"*((2*n)),end=\"\") \n",
    "    print(\"* \"*3)"
   ]
  },
  {
   "cell_type": "code",
   "execution_count": null,
   "metadata": {},
   "outputs": [],
   "source": []
  },
  {
   "cell_type": "markdown",
   "metadata": {},
   "source": [
    "## Pattern 100"
   ]
  },
  {
   "cell_type": "code",
   "execution_count": 2,
   "metadata": {},
   "outputs": [
    {
     "name": "stdout",
     "output_type": "stream",
     "text": [
      "Enter a no.of rows:5\n",
      "         * \n",
      "        * * \n",
      "       * * * \n",
      "      * * * * \n",
      "     * * * * * \n",
      "    *     * \n",
      "   * *    * * \n",
      "  * * *   * * * \n",
      " * * * *  * * * * \n",
      "* * * * * * * * * * \n"
     ]
    }
   ],
   "source": [
    "n=int(input(\"Enter a no.of rows:\"))\n",
    "for i in range(1,n+1):\n",
    "    print(\" \"*(2*n-i),end=\"\")\n",
    "    for j in range(1,i+1):\n",
    "        print(\"*\",end=\" \")\n",
    "    print()\n",
    "for i in range(1,n+1): \n",
    "    print(\" \"*(n-i),end=\"\")\n",
    "    for j in range(1,i+1):\n",
    "        print(\"*\",end=\" \")\n",
    "    print(\" \"*(n-i),end=\"\")\n",
    "    for k in range(1,i+1):\n",
    "        print(\"*\",end=\" \")\n",
    "    print()"
   ]
  },
  {
   "cell_type": "code",
   "execution_count": null,
   "metadata": {},
   "outputs": [],
   "source": []
  },
  {
   "cell_type": "markdown",
   "metadata": {},
   "source": [
    "## Pattern 101"
   ]
  },
  {
   "cell_type": "code",
   "execution_count": 3,
   "metadata": {},
   "outputs": [
    {
     "name": "stdout",
     "output_type": "stream",
     "text": [
      "Enter no.of rwos:5\n",
      "* *  \n",
      "* *  \n",
      "* * * *  \n",
      "* * * *  \n",
      "* * * * * *  \n",
      "* * * * * *  \n",
      "* * * * * * * *  \n",
      "* * * * * * * *  \n",
      "* * * * * * * * * *  \n",
      "* * * * * * * * * *  \n"
     ]
    }
   ],
   "source": [
    "n=int(input(\"Enter no.of rwos:\"))\n",
    "for i in range(1,2*n+1):\n",
    "    if i%2==0:\n",
    "        print(\"* \"*i,end=\" \")\n",
    "    else:\n",
    "        print(\"* \"*(i+1),end=\" \")\n",
    "    print()"
   ]
  },
  {
   "cell_type": "code",
   "execution_count": null,
   "metadata": {},
   "outputs": [],
   "source": []
  },
  {
   "cell_type": "markdown",
   "metadata": {},
   "source": [
    "## Pattern 102"
   ]
  },
  {
   "cell_type": "code",
   "execution_count": 4,
   "metadata": {},
   "outputs": [
    {
     "name": "stdout",
     "output_type": "stream",
     "text": [
      "Enter a number:8\n",
      "              * \n",
      "             * * \n",
      "            * * * \n",
      "           * * * * \n",
      "          * * * * * \n",
      "         * * * * * * \n",
      "        * * * * * * * \n",
      "       * * * * * * * * \n",
      "            * * * \n",
      "           * * * * \n",
      "          * * * * * \n",
      "         * * * * * * \n",
      "        * * * * * * * \n",
      "       * * * * * * * * \n",
      "      * * * * * * * * * \n",
      "     * * * * * * * * * * \n",
      "          * * * * * \n",
      "         * * * * * * \n",
      "        * * * * * * * \n",
      "       * * * * * * * * \n",
      "      * * * * * * * * * \n",
      "     * * * * * * * * * * \n",
      "    * * * * * * * * * * * \n",
      "   * * * * * * * * * * * * \n",
      "        * * * * * * * \n",
      "       * * * * * * * * \n",
      "      * * * * * * * * * \n",
      "     * * * * * * * * * * \n",
      "    * * * * * * * * * * * \n",
      "   * * * * * * * * * * * * \n",
      "  * * * * * * * * * * * * * \n",
      " * * * * * * * * * * * * * * \n",
      "      * * * \n",
      "      * * * \n",
      "      * * * \n",
      "      * * * \n",
      "      * * * \n",
      "      * * * \n",
      "      * * * \n",
      "      * * * \n"
     ]
    }
   ],
   "source": [
    "n=int(input(\"Enter a number:\"))\n",
    "for i in range(1,n+1,2):\n",
    "    for j in range(1,n+1):\n",
    "        print(\" \"*(2*n-j-i),end=\"\")\n",
    "        for k in range(1,j+i):\n",
    "            print(\"*\",end=\" \")\n",
    "        print()\n",
    "for i in range(1,n+1):\n",
    "    print(\" \"*(n-2),end=\"\")\n",
    "    print(\"* \"*3)\n"
   ]
  },
  {
   "cell_type": "code",
   "execution_count": null,
   "metadata": {},
   "outputs": [],
   "source": []
  }
 ],
 "metadata": {
  "kernelspec": {
   "display_name": "Python 3",
   "language": "python",
   "name": "python3"
  },
  "language_info": {
   "codemirror_mode": {
    "name": "ipython",
    "version": 3
   },
   "file_extension": ".py",
   "mimetype": "text/x-python",
   "name": "python",
   "nbconvert_exporter": "python",
   "pygments_lexer": "ipython3",
   "version": "3.8.5"
  }
 },
 "nbformat": 4,
 "nbformat_minor": 4
}
